{
 "cells": [
  {
   "cell_type": "markdown",
   "metadata": {
    "id": "WQuHH8lFOLcP"
   },
   "source": [
    "## **Setting up Development Environment**"
   ]
  },
  {
   "cell_type": "markdown",
   "metadata": {
    "id": "eRv9-m1JOdQ5"
   },
   "source": [
    "## **Importing Libraries**"
   ]
  },
  {
   "cell_type": "code",
   "execution_count": null,
   "metadata": {
    "executionInfo": {
     "elapsed": 350,
     "status": "ok",
     "timestamp": 1642836588535,
     "user": {
      "displayName": "Faerie Mattins",
      "photoUrl": "https://lh3.googleusercontent.com/a-/AOh14GioC2l5h-WyYv75UEkACBUNdG2iNVemsmA1kWM_HA=s64",
      "userId": "14162521248288859983"
     },
     "user_tz": -330
    },
    "id": "APy2U3pfObp0"
   },
   "outputs": [],
   "source": [
    "import pandas as pd\n",
    "\n",
    "import numpy as np\n",
    "import re\n",
    "\n",
    "from sklearn.preprocessing import LabelEncoder\n",
    "from sklearn.feature_extraction.text import TfidfVectorizer\n",
    "from sklearn.model_selection import train_test_split\n",
    "from sklearn.linear_model import LogisticRegression\n",
    "from sklearn.naive_bayes import GaussianNB\n",
    "from sklearn.metrics import classification_report\n",
    "\n",
    "from transformers import AutoTokenizer, AutoModel\n",
    "\n",
    "import pickle\n",
    "import os"
   ]
  },
  {
   "cell_type": "markdown",
   "metadata": {
    "id": "Ob6l5HOZOsZ7"
   },
   "source": [
    "## **Loading Data**"
   ]
  },
  {
   "cell_type": "code",
   "execution_count": 3,
   "metadata": {
    "executionInfo": {
     "elapsed": 549,
     "status": "ok",
     "timestamp": 1642836592233,
     "user": {
      "displayName": "Faerie Mattins",
      "photoUrl": "https://lh3.googleusercontent.com/a-/AOh14GioC2l5h-WyYv75UEkACBUNdG2iNVemsmA1kWM_HA=s64",
      "userId": "14162521248288859983"
     },
     "user_tz": -330
    },
    "id": "_MKm6-4eOpNF"
   },
   "outputs": [],
   "source": [
    "dataframe = pd.read_csv(\"tanglish_train.csv\")"
   ]
  },
  {
   "cell_type": "code",
   "execution_count": 4,
   "metadata": {
    "colab": {
     "base_uri": "https://localhost:8080/",
     "height": 206
    },
    "executionInfo": {
     "elapsed": 364,
     "status": "ok",
     "timestamp": 1642836594420,
     "user": {
      "displayName": "Faerie Mattins",
      "photoUrl": "https://lh3.googleusercontent.com/a-/AOh14GioC2l5h-WyYv75UEkACBUNdG2iNVemsmA1kWM_HA=s64",
      "userId": "14162521248288859983"
     },
     "user_tz": -330
    },
    "id": "9krG1I0nOv4s",
    "outputId": "91ef5dd5-cc6c-4e60-e1a2-e7cbebad45d7"
   },
   "outputs": [
    {
     "data": {
      "text/html": [
       "<div>\n",
       "<style scoped>\n",
       "    .dataframe tbody tr th:only-of-type {\n",
       "        vertical-align: middle;\n",
       "    }\n",
       "\n",
       "    .dataframe tbody tr th {\n",
       "        vertical-align: top;\n",
       "    }\n",
       "\n",
       "    .dataframe thead th {\n",
       "        text-align: right;\n",
       "    }\n",
       "</style>\n",
       "<table border=\"1\" class=\"dataframe\">\n",
       "  <thead>\n",
       "    <tr style=\"text-align: right;\">\n",
       "      <th></th>\n",
       "      <th>id</th>\n",
       "      <th>text</th>\n",
       "      <th>category</th>\n",
       "    </tr>\n",
       "  </thead>\n",
       "  <tbody>\n",
       "    <tr>\n",
       "      <th>0</th>\n",
       "      <td>Tam_1</td>\n",
       "      <td>Indha movie ku award tharlana avanga mansanay ...</td>\n",
       "      <td>OFF</td>\n",
       "    </tr>\n",
       "    <tr>\n",
       "      <th>1</th>\n",
       "      <td>Tam_2</td>\n",
       "      <td>kritheeck Kookaburra en unaku enachu? Cbsc ah??</td>\n",
       "      <td>NOT</td>\n",
       "    </tr>\n",
       "    <tr>\n",
       "      <th>2</th>\n",
       "      <td>Tam_3</td>\n",
       "      <td>Actually Oru particular bus incident thalaiya ...</td>\n",
       "      <td>OFF</td>\n",
       "    </tr>\n",
       "    <tr>\n",
       "      <th>3</th>\n",
       "      <td>Tam_4</td>\n",
       "      <td>Small suggestions: mic ah shirt la pottukunga bro</td>\n",
       "      <td>NOT</td>\n",
       "    </tr>\n",
       "    <tr>\n",
       "      <th>4</th>\n",
       "      <td>Tam_5</td>\n",
       "      <td>Karnan padathulaa oru pombaa varumlaa athuu en...</td>\n",
       "      <td>NOT</td>\n",
       "    </tr>\n",
       "  </tbody>\n",
       "</table>\n",
       "</div>"
      ],
      "text/plain": [
       "      id                                               text category\n",
       "0  Tam_1  Indha movie ku award tharlana avanga mansanay ...      OFF\n",
       "1  Tam_2    kritheeck Kookaburra en unaku enachu? Cbsc ah??      NOT\n",
       "2  Tam_3  Actually Oru particular bus incident thalaiya ...      OFF\n",
       "3  Tam_4  Small suggestions: mic ah shirt la pottukunga bro      NOT\n",
       "4  Tam_5  Karnan padathulaa oru pombaa varumlaa athuu en...      NOT"
      ]
     },
     "execution_count": 4,
     "metadata": {},
     "output_type": "execute_result"
    }
   ],
   "source": [
    "dataframe.head()"
   ]
  },
  {
   "cell_type": "code",
   "execution_count": 5,
   "metadata": {
    "colab": {
     "base_uri": "https://localhost:8080/",
     "height": 175
    },
    "executionInfo": {
     "elapsed": 5,
     "status": "ok",
     "timestamp": 1642836595477,
     "user": {
      "displayName": "Faerie Mattins",
      "photoUrl": "https://lh3.googleusercontent.com/a-/AOh14GioC2l5h-WyYv75UEkACBUNdG2iNVemsmA1kWM_HA=s64",
      "userId": "14162521248288859983"
     },
     "user_tz": -330
    },
    "id": "GG8d6pJzOxjX",
    "outputId": "a26f6a7f-7e25-4877-ce79-ce3286a4bed0"
   },
   "outputs": [
    {
     "data": {
      "text/html": [
       "<div>\n",
       "<style scoped>\n",
       "    .dataframe tbody tr th:only-of-type {\n",
       "        vertical-align: middle;\n",
       "    }\n",
       "\n",
       "    .dataframe tbody tr th {\n",
       "        vertical-align: top;\n",
       "    }\n",
       "\n",
       "    .dataframe thead th {\n",
       "        text-align: right;\n",
       "    }\n",
       "</style>\n",
       "<table border=\"1\" class=\"dataframe\">\n",
       "  <thead>\n",
       "    <tr style=\"text-align: right;\">\n",
       "      <th></th>\n",
       "      <th>id</th>\n",
       "      <th>text</th>\n",
       "      <th>category</th>\n",
       "    </tr>\n",
       "  </thead>\n",
       "  <tbody>\n",
       "    <tr>\n",
       "      <th>count</th>\n",
       "      <td>1001</td>\n",
       "      <td>1001</td>\n",
       "      <td>1000</td>\n",
       "    </tr>\n",
       "    <tr>\n",
       "      <th>unique</th>\n",
       "      <td>1001</td>\n",
       "      <td>994</td>\n",
       "      <td>3</td>\n",
       "    </tr>\n",
       "    <tr>\n",
       "      <th>top</th>\n",
       "      <td>Tam_1</td>\n",
       "      <td>Indha movie ku award tharlana avanga mansanay ...</td>\n",
       "      <td>NOT</td>\n",
       "    </tr>\n",
       "    <tr>\n",
       "      <th>freq</th>\n",
       "      <td>1</td>\n",
       "      <td>3</td>\n",
       "      <td>604</td>\n",
       "    </tr>\n",
       "  </tbody>\n",
       "</table>\n",
       "</div>"
      ],
      "text/plain": [
       "           id                                               text category\n",
       "count    1001                                               1001     1000\n",
       "unique   1001                                                994        3\n",
       "top     Tam_1  Indha movie ku award tharlana avanga mansanay ...      NOT\n",
       "freq        1                                                  3      604"
      ]
     },
     "execution_count": 5,
     "metadata": {},
     "output_type": "execute_result"
    }
   ],
   "source": [
    "dataframe.describe()"
   ]
  },
  {
   "cell_type": "code",
   "execution_count": 6,
   "metadata": {
    "colab": {
     "base_uri": "https://localhost:8080/"
    },
    "executionInfo": {
     "elapsed": 7,
     "status": "ok",
     "timestamp": 1642836595951,
     "user": {
      "displayName": "Faerie Mattins",
      "photoUrl": "https://lh3.googleusercontent.com/a-/AOh14GioC2l5h-WyYv75UEkACBUNdG2iNVemsmA1kWM_HA=s64",
      "userId": "14162521248288859983"
     },
     "user_tz": -330
    },
    "id": "eN25yq9qOzRE",
    "outputId": "6b81671e-0a7e-450d-cb61-1a4a09498888"
   },
   "outputs": [
    {
     "data": {
      "text/plain": [
       "array(['OFF', 'NOT', ' NOT', nan], dtype=object)"
      ]
     },
     "execution_count": 6,
     "metadata": {},
     "output_type": "execute_result"
    }
   ],
   "source": [
    "dataframe['category'].unique()"
   ]
  },
  {
   "cell_type": "code",
   "execution_count": 7,
   "metadata": {
    "colab": {
     "base_uri": "https://localhost:8080/"
    },
    "executionInfo": {
     "elapsed": 14,
     "status": "ok",
     "timestamp": 1642836597544,
     "user": {
      "displayName": "Faerie Mattins",
      "photoUrl": "https://lh3.googleusercontent.com/a-/AOh14GioC2l5h-WyYv75UEkACBUNdG2iNVemsmA1kWM_HA=s64",
      "userId": "14162521248288859983"
     },
     "user_tz": -330
    },
    "id": "aZv2qX_IO1cg",
    "outputId": "303b505a-847d-470b-db52-2b71ad5e485c"
   },
   "outputs": [
    {
     "data": {
      "text/plain": [
       "(1001, 3)"
      ]
     },
     "execution_count": 7,
     "metadata": {},
     "output_type": "execute_result"
    }
   ],
   "source": [
    "dataframe.shape"
   ]
  },
  {
   "cell_type": "code",
   "execution_count": 8,
   "metadata": {
    "colab": {
     "base_uri": "https://localhost:8080/"
    },
    "executionInfo": {
     "elapsed": 9,
     "status": "ok",
     "timestamp": 1642836597545,
     "user": {
      "displayName": "Faerie Mattins",
      "photoUrl": "https://lh3.googleusercontent.com/a-/AOh14GioC2l5h-WyYv75UEkACBUNdG2iNVemsmA1kWM_HA=s64",
      "userId": "14162521248288859983"
     },
     "user_tz": -330
    },
    "id": "_p2ZI6V9O3S6",
    "outputId": "9b29eecd-10bb-406b-f7ba-617e05f89821"
   },
   "outputs": [
    {
     "data": {
      "text/plain": [
       "array(['OFF', 'NOT', ' NOT', nan], dtype=object)"
      ]
     },
     "execution_count": 8,
     "metadata": {},
     "output_type": "execute_result"
    }
   ],
   "source": [
    "dataframe = dataframe.loc[dataframe['category'] != 'not-Tamil']\n",
    "dataframe['category'].unique()"
   ]
  },
  {
   "cell_type": "code",
   "execution_count": 9,
   "metadata": {
    "colab": {
     "base_uri": "https://localhost:8080/"
    },
    "executionInfo": {
     "elapsed": 3,
     "status": "ok",
     "timestamp": 1642836598693,
     "user": {
      "displayName": "Faerie Mattins",
      "photoUrl": "https://lh3.googleusercontent.com/a-/AOh14GioC2l5h-WyYv75UEkACBUNdG2iNVemsmA1kWM_HA=s64",
      "userId": "14162521248288859983"
     },
     "user_tz": -330
    },
    "id": "vbXmfXW2O5UG",
    "outputId": "36fa5709-329d-4b4c-f440-9e55dd0585e1"
   },
   "outputs": [
    {
     "data": {
      "text/plain": [
       "(1001, 3)"
      ]
     },
     "execution_count": 9,
     "metadata": {},
     "output_type": "execute_result"
    }
   ],
   "source": [
    "dataframe.shape"
   ]
  },
  {
   "cell_type": "code",
   "execution_count": 10,
   "metadata": {
    "executionInfo": {
     "elapsed": 2,
     "status": "ok",
     "timestamp": 1642836598694,
     "user": {
      "displayName": "Faerie Mattins",
      "photoUrl": "https://lh3.googleusercontent.com/a-/AOh14GioC2l5h-WyYv75UEkACBUNdG2iNVemsmA1kWM_HA=s64",
      "userId": "14162521248288859983"
     },
     "user_tz": -330
    },
    "id": "NK_0OsM8PBD1"
   },
   "outputs": [],
   "source": [
    "text = dataframe['text']"
   ]
  },
  {
   "cell_type": "code",
   "execution_count": 11,
   "metadata": {
    "colab": {
     "base_uri": "https://localhost:8080/"
    },
    "executionInfo": {
     "elapsed": 16,
     "status": "ok",
     "timestamp": 1642836599150,
     "user": {
      "displayName": "Faerie Mattins",
      "photoUrl": "https://lh3.googleusercontent.com/a-/AOh14GioC2l5h-WyYv75UEkACBUNdG2iNVemsmA1kWM_HA=s64",
      "userId": "14162521248288859983"
     },
     "user_tz": -330
    },
    "id": "Y0Pca_2EPCvx",
    "outputId": "60db6729-2faa-44a4-abf3-d65f3f26732d"
   },
   "outputs": [
    {
     "data": {
      "text/plain": [
       "0       Indha movie ku award tharlana avanga mansanay ...\n",
       "1         kritheeck Kookaburra en unaku enachu? Cbsc ah??\n",
       "2       Actually Oru particular bus incident thalaiya ...\n",
       "3       Small suggestions: mic ah shirt la pottukunga bro\n",
       "4       Karnan padathulaa oru pombaa varumlaa athuu en...\n",
       "                              ...                        \n",
       "996     Chai spoiler vaya mooduya full kathayum sillit...\n",
       "997     Unakku thinga soru irukko illayo aduthavangala...\n",
       "998     Dai seripu oli advingi mala vandavan thana mau...\n",
       "999     Gomala bule shirt ta nee padam eduthu paaruda ...\n",
       "1000    Mr. Maran neenga mindvoice nu nenachu sound ah...\n",
       "Name: text, Length: 1001, dtype: object"
      ]
     },
     "execution_count": 11,
     "metadata": {},
     "output_type": "execute_result"
    }
   ],
   "source": [
    "text"
   ]
  },
  {
   "cell_type": "code",
   "execution_count": 12,
   "metadata": {
    "executionInfo": {
     "elapsed": 14,
     "status": "ok",
     "timestamp": 1642836600523,
     "user": {
      "displayName": "Faerie Mattins",
      "photoUrl": "https://lh3.googleusercontent.com/a-/AOh14GioC2l5h-WyYv75UEkACBUNdG2iNVemsmA1kWM_HA=s64",
      "userId": "14162521248288859983"
     },
     "user_tz": -330
    },
    "id": "pr3rfJryPEnq"
   },
   "outputs": [],
   "source": [
    "label = dataframe['category']"
   ]
  },
  {
   "cell_type": "code",
   "execution_count": 13,
   "metadata": {
    "colab": {
     "base_uri": "https://localhost:8080/"
    },
    "executionInfo": {
     "elapsed": 14,
     "status": "ok",
     "timestamp": 1642836600524,
     "user": {
      "displayName": "Faerie Mattins",
      "photoUrl": "https://lh3.googleusercontent.com/a-/AOh14GioC2l5h-WyYv75UEkACBUNdG2iNVemsmA1kWM_HA=s64",
      "userId": "14162521248288859983"
     },
     "user_tz": -330
    },
    "id": "vaoHyNetPGMC",
    "outputId": "09d106f6-4f82-493f-f892-7814a7ed9f38"
   },
   "outputs": [
    {
     "data": {
      "text/plain": [
       "0       OFF\n",
       "1       NOT\n",
       "2       OFF\n",
       "3       NOT\n",
       "4       NOT\n",
       "       ... \n",
       "996     OFF\n",
       "997     OFF\n",
       "998     OFF\n",
       "999     OFF\n",
       "1000    NOT\n",
       "Name: category, Length: 1001, dtype: object"
      ]
     },
     "execution_count": 13,
     "metadata": {},
     "output_type": "execute_result"
    }
   ],
   "source": [
    "label"
   ]
  },
  {
   "cell_type": "markdown",
   "metadata": {
    "id": "eUnm-JhVPJ2F"
   },
   "source": [
    "## **Data Preprocessing**"
   ]
  },
  {
   "cell_type": "code",
   "execution_count": 14,
   "metadata": {
    "colab": {
     "base_uri": "https://localhost:8080/"
    },
    "executionInfo": {
     "elapsed": 3,
     "status": "ok",
     "timestamp": 1642836602410,
     "user": {
      "displayName": "Faerie Mattins",
      "photoUrl": "https://lh3.googleusercontent.com/a-/AOh14GioC2l5h-WyYv75UEkACBUNdG2iNVemsmA1kWM_HA=s64",
      "userId": "14162521248288859983"
     },
     "user_tz": -330
    },
    "id": "nUI5zKCsPHs5",
    "outputId": "ae884ff0-979c-4e13-a623-9f3c8ee5cdfa"
   },
   "outputs": [
    {
     "data": {
      "text/plain": [
       "array([2, 1, 2, ..., 2, 2, 1])"
      ]
     },
     "execution_count": 14,
     "metadata": {},
     "output_type": "execute_result"
    }
   ],
   "source": [
    "le = LabelEncoder()\n",
    "label = le.fit_transform(label)\n",
    "label"
   ]
  },
  {
   "cell_type": "code",
   "execution_count": 15,
   "metadata": {
    "colab": {
     "base_uri": "https://localhost:8080/"
    },
    "executionInfo": {
     "elapsed": 2,
     "status": "ok",
     "timestamp": 1642836602821,
     "user": {
      "displayName": "Faerie Mattins",
      "photoUrl": "https://lh3.googleusercontent.com/a-/AOh14GioC2l5h-WyYv75UEkACBUNdG2iNVemsmA1kWM_HA=s64",
      "userId": "14162521248288859983"
     },
     "user_tz": -330
    },
    "id": "eoEYaji1PNeN",
    "outputId": "304d65f9-2dea-4a8e-b1a2-12542e514113"
   },
   "outputs": [
    {
     "data": {
      "text/plain": [
       "array(['Indha movie ku award tharlana avanga mansanay illa bro',\n",
       "       'kritheeck Kookaburra en unaku enachu? Cbsc ah??',\n",
       "       'Actually Oru particular bus incident thalaiya vettina sambavam Atha pathi sollala',\n",
       "       ...,\n",
       "       'Dai seripu oli advingi mala vandavan thana maubidi adi vanga pora po poi un para kolanda paru',\n",
       "       'Gomala bule shirt ta nee padam eduthu paaruda ohoh nu oodum',\n",
       "       'Mr. Maran neenga mindvoice nu nenachu sound ah pesiteenga...ðŸ¤£ðŸ¤£ðŸ¤£'],\n",
       "      dtype=object)"
      ]
     },
     "execution_count": 15,
     "metadata": {},
     "output_type": "execute_result"
    }
   ],
   "source": [
    "text = text.str.replace(r\"[+/#@&*$%:]\",'')\n",
    "text = text.to_numpy()\n",
    "text"
   ]
  },
  {
   "cell_type": "markdown",
   "metadata": {},
   "source": [
    "### Setting Stopwords\n"
   ]
  },
  {
   "cell_type": "code",
   "execution_count": 16,
   "metadata": {
    "executionInfo": {
     "elapsed": 871,
     "status": "ok",
     "timestamp": 1642836639108,
     "user": {
      "displayName": "Faerie Mattins",
      "photoUrl": "https://lh3.googleusercontent.com/a-/AOh14GioC2l5h-WyYv75UEkACBUNdG2iNVemsmA1kWM_HA=s64",
      "userId": "14162521248288859983"
     },
     "user_tz": -330
    },
    "id": "egWkI90ZsbN5"
   },
   "outputs": [],
   "source": [
    "with open('tamil_stopwords.txt', encoding = 'utf-8') as f:\n",
    "    tamil_stopwords = f.readlines()\n",
    "    for i in range(len(tamil_stopwords)):\n",
    "        tamil_stopwords[i] = re.sub('\\n','',tamil_stopwords[i])\n",
    "stopwords = tamil_stopwords"
   ]
  },
  {
   "cell_type": "code",
   "execution_count": 17,
   "metadata": {
    "executionInfo": {
     "elapsed": 2,
     "status": "ok",
     "timestamp": 1642836640798,
     "user": {
      "displayName": "Faerie Mattins",
      "photoUrl": "https://lh3.googleusercontent.com/a-/AOh14GioC2l5h-WyYv75UEkACBUNdG2iNVemsmA1kWM_HA=s64",
      "userId": "14162521248288859983"
     },
     "user_tz": -330
    },
    "id": "rfY8N6ZysThH"
   },
   "outputs": [],
   "source": [
    "# Function for removing stop words\n",
    "def stopwords_remove(text):\n",
    "    # Appending words which are not stop words\n",
    "    text = text.split(\" \")\n",
    "    removed = [s for s in text if s not in stopwords]  \n",
    "    return removed"
   ]
  },
  {
   "cell_type": "code",
   "execution_count": 18,
   "metadata": {
    "executionInfo": {
     "elapsed": 373,
     "status": "ok",
     "timestamp": 1642836641500,
     "user": {
      "displayName": "Faerie Mattins",
      "photoUrl": "https://lh3.googleusercontent.com/a-/AOh14GioC2l5h-WyYv75UEkACBUNdG2iNVemsmA1kWM_HA=s64",
      "userId": "14162521248288859983"
     },
     "user_tz": -330
    },
    "id": "YAp3skANsXt4"
   },
   "outputs": [],
   "source": [
    "text = [stopwords_remove(s) for s in text]\n",
    "for i in range(len(text)):\n",
    "  text[i] = (\" \".join(text[i]))"
   ]
  },
  {
   "cell_type": "markdown",
   "metadata": {
    "id": "pPrWujPhfLrM"
   },
   "source": [
    "## **Feature Extraction**"
   ]
  },
  {
   "cell_type": "code",
   "execution_count": 21,
   "metadata": {},
   "outputs": [],
   "source": [
    "# Load Transformer Model\n",
    "\n",
    "tokenizer = AutoTokenizer.from_pretrained(\"ai4bharat/indic-bert\")\n",
    "model = AutoModel.from_pretrained(\"ai4bharat/indic-bert\")"
   ]
  },
  {
   "cell_type": "code",
   "execution_count": 22,
   "metadata": {
    "executionInfo": {
     "elapsed": 482,
     "status": "ok",
     "timestamp": 1642836663629,
     "user": {
      "displayName": "Faerie Mattins",
      "photoUrl": "https://lh3.googleusercontent.com/a-/AOh14GioC2l5h-WyYv75UEkACBUNdG2iNVemsmA1kWM_HA=s64",
      "userId": "14162521248288859983"
     },
     "user_tz": -330
    },
    "id": "uZ8EYHrmgZBa"
   },
   "outputs": [],
   "source": [
    "# Sample Output\n",
    "\n",
    "tokenized_input = tokenizer(\n",
    "        text[0],\n",
    "        padding=True,\n",
    "        truncation=False,\n",
    "        return_tensors='pt'\n",
    "    )\n",
    "\n",
    "sample_output = model(**tokenized_input)"
   ]
  },
  {
   "cell_type": "code",
   "execution_count": 23,
   "metadata": {
    "colab": {
     "base_uri": "https://localhost:8080/"
    },
    "executionInfo": {
     "elapsed": 3,
     "status": "ok",
     "timestamp": 1642836665014,
     "user": {
      "displayName": "Faerie Mattins",
      "photoUrl": "https://lh3.googleusercontent.com/a-/AOh14GioC2l5h-WyYv75UEkACBUNdG2iNVemsmA1kWM_HA=s64",
      "userId": "14162521248288859983"
     },
     "user_tz": -330
    },
    "id": "xmPnzKAJkD5k",
    "outputId": "61e7bd75-e7e8-4503-cbfb-5e89899a41a7"
   },
   "outputs": [
    {
     "name": "stdout",
     "output_type": "stream",
     "text": [
      "{'input_ids': tensor([[     2,     26,  29571,   8516, 146537,   8132,    686,  10322, 173051,\n",
      "              8,  16417,  42525,   2825,  97305,    335,      8,  38845,  85415,\n",
      "              3]]), 'token_type_ids': tensor([[0, 0, 0, 0, 0, 0, 0, 0, 0, 0, 0, 0, 0, 0, 0, 0, 0, 0, 0]]), 'attention_mask': tensor([[1, 1, 1, 1, 1, 1, 1, 1, 1, 1, 1, 1, 1, 1, 1, 1, 1, 1, 1]])}\n"
     ]
    }
   ],
   "source": [
    "print(tokenized_input)"
   ]
  },
  {
   "cell_type": "code",
   "execution_count": 24,
   "metadata": {
    "colab": {
     "base_uri": "https://localhost:8080/"
    },
    "executionInfo": {
     "elapsed": 7,
     "status": "ok",
     "timestamp": 1642836666160,
     "user": {
      "displayName": "Faerie Mattins",
      "photoUrl": "https://lh3.googleusercontent.com/a-/AOh14GioC2l5h-WyYv75UEkACBUNdG2iNVemsmA1kWM_HA=s64",
      "userId": "14162521248288859983"
     },
     "user_tz": -330
    },
    "id": "FSOktuaVkRr6",
    "outputId": "234309f4-cf9a-4750-b557-01ba0d6e8973"
   },
   "outputs": [
    {
     "name": "stdout",
     "output_type": "stream",
     "text": [
      "BaseModelOutputWithPooling(last_hidden_state=tensor([[[-1.3029e-02,  4.3217e-04, -2.2917e-02,  ..., -2.2647e-02,\n",
      "           6.2345e-03, -1.0148e-02],\n",
      "         [-9.9278e-01, -3.4976e-01, -5.7621e-02,  ...,  1.0413e-01,\n",
      "           2.2579e-02,  3.1114e-01],\n",
      "         [ 7.9027e-01, -3.4917e-01, -6.7418e-02,  ...,  2.7264e-01,\n",
      "           4.1909e-02,  7.8295e-02],\n",
      "         ...,\n",
      "         [ 3.5433e-01, -4.8031e-01,  1.0396e-02,  ..., -3.0663e-02,\n",
      "          -8.5046e-02,  5.0104e-02],\n",
      "         [ 8.2294e-01, -5.3474e-02, -1.0574e-01,  ...,  8.4477e-02,\n",
      "          -1.0586e-02, -1.6194e-01],\n",
      "         [-1.3029e-02,  4.3216e-04, -2.2917e-02,  ..., -2.2647e-02,\n",
      "           6.2344e-03, -1.0148e-02]]], grad_fn=<NativeLayerNormBackward0>), pooler_output=tensor([[-5.7705e-02,  4.9807e-02,  1.4111e-02, -6.4736e-03,  4.1987e-02,\n",
      "          8.3054e-02,  3.9925e-02, -1.1579e-02, -1.3578e-02,  6.2298e-02,\n",
      "         -8.1404e-03,  4.6956e-02,  2.0357e-02, -1.7087e-02,  4.9200e-02,\n",
      "         -2.1030e-02, -4.1776e-02,  8.7417e-03, -1.1459e-01, -8.7956e-02,\n",
      "          8.0245e-02,  7.7543e-02, -3.6252e-02, -9.7172e-02,  5.0835e-03,\n",
      "         -3.2094e-02, -5.0386e-02, -5.9471e-03,  2.6879e-02,  6.9292e-03,\n",
      "          2.1125e-02,  1.0159e-03,  1.0015e-02,  3.7635e-02,  2.7720e-04,\n",
      "         -3.5242e-02, -1.9527e-02, -2.0034e-02,  1.1484e-01,  2.0257e-02,\n",
      "          2.9466e-02, -2.6717e-02, -1.1524e-01,  4.1998e-02, -6.8633e-02,\n",
      "         -2.7229e-02,  2.5844e-02, -6.9030e-02, -4.4019e-02,  9.5993e-03,\n",
      "         -4.5544e-02, -1.7630e-02,  1.6650e-02, -2.2159e-02, -2.2669e-02,\n",
      "          4.7371e-02, -1.6980e-02, -2.8613e-02,  5.5174e-02, -7.5297e-03,\n",
      "          1.1819e-02,  1.1566e-02,  6.9969e-02,  9.9776e-02,  2.5764e-02,\n",
      "         -2.3739e-02,  7.8450e-02,  1.0098e-01,  6.9953e-02,  2.0971e-02,\n",
      "          3.9764e-02, -2.2448e-02,  4.8088e-03,  1.5756e-01,  2.6659e-02,\n",
      "          2.9036e-02,  1.9541e-02,  5.8638e-03, -8.7775e-02,  6.1287e-02,\n",
      "          3.3726e-02, -4.5491e-02,  3.6767e-02,  2.0083e-02, -4.7533e-02,\n",
      "          3.1126e-02,  2.6449e-03,  5.4308e-02, -1.0401e-02, -2.4722e-02,\n",
      "          1.9539e-02, -9.5160e-02,  9.0560e-02,  8.7979e-02,  6.1265e-02,\n",
      "          5.3464e-03,  1.6327e-02, -6.9666e-03, -3.6863e-02,  4.5646e-02,\n",
      "         -5.0598e-02,  1.2065e-01, -7.2788e-02,  8.9636e-02,  6.6389e-02,\n",
      "         -4.0857e-02,  4.1702e-02, -5.7960e-02,  3.7047e-02,  5.8227e-02,\n",
      "         -2.5024e-02,  4.8443e-02,  3.6618e-02, -1.0813e-02, -6.6066e-02,\n",
      "          7.9868e-02, -1.2277e-01, -8.4945e-02, -5.9121e-02,  5.8714e-02,\n",
      "         -1.3275e-02,  6.6421e-02,  1.3019e-02, -7.2223e-02, -7.1609e-02,\n",
      "          6.7088e-02,  8.4578e-02,  9.6821e-02,  2.9798e-02, -1.8227e-02,\n",
      "         -4.9287e-02,  3.7223e-02, -8.8137e-03,  3.7046e-02,  9.7271e-02,\n",
      "         -6.0092e-02, -3.3279e-03, -1.4530e-03, -8.3870e-03,  7.0992e-03,\n",
      "         -4.0333e-02, -6.0909e-03, -7.0616e-02, -1.1039e-02, -1.1383e-02,\n",
      "         -1.9798e-03, -3.1233e-02, -3.9332e-02, -2.1352e-02,  5.2557e-02,\n",
      "          8.2569e-02,  6.3184e-03,  9.6198e-03, -1.1018e-02, -8.5341e-02,\n",
      "         -9.5594e-03,  3.0019e-02, -9.6037e-02,  5.4434e-02,  7.9867e-02,\n",
      "          3.0663e-02,  7.8655e-02, -5.7435e-02,  2.4976e-02,  3.4416e-02,\n",
      "         -6.2878e-02,  4.0873e-03, -9.1581e-02,  8.8603e-02, -8.3060e-02,\n",
      "          2.4371e-02,  2.5944e-02,  3.1549e-02, -4.1305e-02, -4.6984e-02,\n",
      "         -1.8900e-02,  1.6335e-02, -7.4385e-03, -6.3924e-02, -2.6700e-02,\n",
      "         -8.5571e-03,  5.8088e-02,  5.0828e-02,  2.9946e-02, -6.3574e-02,\n",
      "          1.5452e-02,  4.8126e-02, -5.9424e-02, -1.4763e-03, -8.6023e-02,\n",
      "         -6.7931e-02,  7.1876e-02,  5.1966e-02, -8.5373e-02,  2.0556e-02,\n",
      "         -4.9915e-03,  3.6042e-02,  1.8093e-02,  9.1890e-02, -6.2893e-02,\n",
      "         -2.9344e-02,  9.0013e-02, -3.6826e-02, -6.2305e-02, -5.0531e-02,\n",
      "         -2.0600e-02, -1.0054e-01,  5.3311e-02, -8.4400e-03,  2.7054e-02,\n",
      "          3.2466e-02, -1.8946e-02,  5.7595e-02,  3.2532e-02, -3.7188e-02,\n",
      "          3.9299e-04, -6.7761e-02,  3.5736e-02,  3.3620e-02,  3.8204e-02,\n",
      "         -4.9898e-03, -9.1676e-02, -3.6827e-02, -4.2296e-02,  1.3915e-02,\n",
      "         -2.0053e-02, -8.6083e-02, -2.7623e-02,  6.6052e-03,  8.4621e-03,\n",
      "         -4.0529e-02, -1.4955e-01,  3.1679e-02, -2.2435e-02, -7.8329e-02,\n",
      "          7.9333e-03,  7.9586e-03,  2.6538e-02,  3.9639e-02, -6.6552e-03,\n",
      "          3.4158e-02,  8.3603e-03,  5.7858e-03, -2.8415e-02, -7.1006e-02,\n",
      "          7.1263e-02,  1.2675e-02, -9.9332e-02,  5.3825e-02,  1.1463e-02,\n",
      "          1.2497e-01,  3.4292e-02, -4.4007e-02,  4.0078e-02,  5.5545e-02,\n",
      "          7.7214e-02,  4.8072e-02,  3.4419e-02, -2.0983e-02, -4.9620e-02,\n",
      "          2.7828e-02,  1.2729e-02, -3.6261e-02, -3.6763e-03,  3.0789e-02,\n",
      "         -2.9198e-02, -1.8942e-02,  5.4825e-02,  3.1309e-02, -5.7785e-02,\n",
      "         -6.7253e-02,  7.9227e-02,  7.5266e-02,  4.7181e-02, -3.0192e-02,\n",
      "          7.6292e-02, -1.4579e-02,  4.3413e-02,  1.1973e-01,  6.1910e-02,\n",
      "          6.9165e-02, -6.5429e-02, -7.8836e-02, -6.1828e-02,  5.1361e-02,\n",
      "         -1.4905e-02,  7.0094e-02,  3.8806e-02, -5.3725e-02,  5.6219e-02,\n",
      "          7.3919e-02,  6.2209e-02, -4.9231e-02,  1.5894e-02, -1.2895e-02,\n",
      "         -3.4683e-02,  1.1130e-01,  1.0312e-01,  9.9643e-02, -1.1247e-02,\n",
      "          1.1861e-03,  1.5338e-02,  4.8992e-02, -9.9540e-03, -8.6996e-02,\n",
      "         -4.1410e-03, -4.7269e-02,  1.0860e-03, -4.2554e-02,  6.8192e-02,\n",
      "          4.3393e-03,  5.6691e-02,  9.2281e-02, -4.5906e-02,  1.8690e-02,\n",
      "          1.2187e-01, -6.7122e-02,  1.7805e-03, -1.2438e-03,  1.7630e-02,\n",
      "          5.4780e-02, -7.5946e-02, -7.1668e-02,  2.2974e-03, -1.3952e-02,\n",
      "          5.3618e-03,  3.3148e-02, -1.8506e-03, -3.1400e-02, -8.7769e-02,\n",
      "          5.2276e-02, -1.6517e-02, -7.2447e-02, -1.8141e-02, -1.9788e-02,\n",
      "          2.2243e-02,  4.8000e-03,  5.6103e-02,  4.5217e-02, -1.9553e-02,\n",
      "         -7.2845e-02, -4.1629e-02, -4.8537e-02, -2.3818e-02,  2.7209e-02,\n",
      "          5.0319e-02,  5.1049e-03,  9.3514e-03, -5.6214e-02, -5.4560e-02,\n",
      "         -9.0918e-02,  4.8012e-02, -5.0800e-02,  7.7617e-02, -4.4235e-02,\n",
      "          3.8293e-02, -2.6999e-02, -9.9433e-02, -1.8193e-02, -4.6377e-02,\n",
      "          1.6912e-02, -8.7864e-03, -3.7577e-02,  2.5621e-02,  4.2063e-02,\n",
      "         -6.6665e-02, -3.1164e-02,  1.0123e-01,  1.5260e-02,  6.0618e-02,\n",
      "          7.2790e-02,  1.4255e-02,  4.6577e-02, -1.3528e-01,  3.0807e-02,\n",
      "          5.1391e-04,  1.9349e-02, -4.1668e-02,  5.1624e-02,  3.1474e-02,\n",
      "          6.6792e-02, -6.5194e-03,  2.2509e-02, -3.1897e-02, -2.8824e-03,\n",
      "         -2.5838e-02,  4.2645e-02, -7.3276e-03,  2.5835e-02,  6.5623e-02,\n",
      "         -1.1536e-02,  1.2569e-02, -6.7815e-02, -5.9469e-03,  1.4485e-02,\n",
      "          3.6771e-02,  8.8487e-02, -3.2337e-02, -3.8824e-03, -3.8875e-03,\n",
      "          1.6377e-02,  2.5813e-02, -3.4057e-03,  3.8180e-02, -2.9159e-02,\n",
      "         -1.3888e-01,  3.6255e-02,  9.2157e-02, -5.1406e-02, -4.9429e-02,\n",
      "         -4.9516e-02, -8.9781e-03,  4.0360e-02,  9.3762e-02, -2.7067e-02,\n",
      "          8.2906e-02,  1.9916e-02,  8.5080e-02, -1.3627e-02, -4.7304e-04,\n",
      "          6.1439e-02,  5.0826e-02,  3.2469e-02, -1.7057e-02,  8.1871e-02,\n",
      "          7.5124e-02,  1.1404e-02,  4.5339e-02, -6.3966e-03,  5.8078e-02,\n",
      "         -1.5877e-02,  5.3152e-02,  7.9948e-02,  8.0333e-02, -2.1066e-02,\n",
      "          2.7573e-02, -6.4618e-03,  8.6552e-03,  5.6121e-02,  1.0623e-01,\n",
      "         -7.5660e-02,  1.5841e-02,  4.3130e-02, -4.4421e-02, -6.5174e-02,\n",
      "         -2.7762e-02,  8.0609e-03, -6.2810e-03, -2.5404e-02, -7.7944e-02,\n",
      "         -1.0518e-01, -1.8324e-02,  8.8318e-02, -6.3956e-02,  1.9086e-02,\n",
      "         -5.4015e-02, -1.3941e-01, -1.0718e-02, -1.1227e-02, -5.0400e-02,\n",
      "         -4.6787e-02,  1.2011e-02, -1.0462e-02,  5.3717e-03,  4.3908e-03,\n",
      "          6.5340e-02,  7.7380e-03,  6.4317e-02, -1.5380e-02,  9.4746e-02,\n",
      "         -1.3627e-01, -3.5016e-02,  3.3390e-02,  2.7815e-02, -2.0655e-02,\n",
      "         -3.9533e-03,  2.7232e-02,  2.8377e-03, -2.3804e-02,  2.1456e-02,\n",
      "          3.5793e-02, -8.3930e-03, -6.6453e-02,  3.9761e-02, -4.0458e-02,\n",
      "         -1.8207e-02,  4.9195e-02, -5.2153e-03, -2.2222e-02, -6.9284e-02,\n",
      "         -3.1909e-03, -3.5466e-02,  9.3670e-02, -4.2900e-02,  1.0930e-01,\n",
      "         -4.6987e-03,  6.2816e-02, -6.1620e-02,  2.8216e-02, -9.7072e-02,\n",
      "          3.3757e-03, -3.7121e-02, -5.9732e-02,  5.6957e-02, -2.8532e-03,\n",
      "         -1.7668e-02, -5.7671e-02,  8.4265e-02, -6.5433e-02,  2.2741e-02,\n",
      "          7.6196e-02, -1.5366e-02, -3.7345e-02, -6.2522e-02,  4.5479e-02,\n",
      "         -6.7830e-02, -5.8099e-03, -6.1450e-02,  4.3200e-02,  1.9551e-02,\n",
      "          2.8691e-02, -2.4844e-02,  2.5772e-02,  2.0269e-02, -2.3368e-02,\n",
      "          7.6998e-03, -1.2224e-01, -4.8042e-02, -2.7114e-02, -6.4710e-02,\n",
      "         -3.0147e-03,  2.9226e-02,  1.2346e-02, -2.3299e-02, -4.8498e-02,\n",
      "         -9.9939e-02, -2.4608e-02, -8.7875e-03, -3.2901e-02,  4.6532e-02,\n",
      "          3.1724e-02,  5.5181e-02,  2.2709e-02,  1.2656e-02, -1.6708e-02,\n",
      "         -3.3195e-02, -7.1743e-02,  6.2805e-02, -1.9058e-02,  2.0685e-02,\n",
      "         -5.8521e-02,  4.3439e-02, -4.8135e-03, -4.6895e-02,  1.0075e-01,\n",
      "         -3.1426e-02, -9.0688e-03, -3.7738e-02, -6.1496e-02,  4.0041e-02,\n",
      "         -2.3252e-02, -7.3984e-02,  8.9086e-02, -1.3761e-02,  1.6893e-02,\n",
      "          8.2359e-03,  1.2420e-02,  1.5443e-02, -3.4053e-02, -4.7343e-02,\n",
      "         -5.3778e-02, -8.6768e-05,  5.0461e-02, -2.8799e-02,  4.2533e-02,\n",
      "         -2.1026e-02, -6.8447e-02,  6.7705e-02,  1.5691e-02,  5.2925e-02,\n",
      "          3.1366e-02, -9.5798e-02,  3.7322e-03, -2.7901e-02,  1.0313e-01,\n",
      "          1.6215e-02, -2.3403e-02,  3.9349e-02,  1.8596e-02, -2.3544e-02,\n",
      "         -6.5384e-02,  6.3399e-02,  1.9073e-02, -4.8385e-02,  3.9215e-02,\n",
      "          7.7093e-02, -2.5072e-03,  8.6830e-02, -1.2542e-02, -3.3653e-02,\n",
      "          6.1882e-02,  1.4579e-02,  9.6785e-03, -6.4002e-03, -1.2133e-02,\n",
      "          4.0723e-02, -1.4531e-02,  1.6691e-02,  7.6933e-02, -2.0683e-02,\n",
      "          1.8336e-02, -8.8858e-02,  6.7407e-02,  1.3140e-02, -2.7670e-02,\n",
      "         -3.2289e-03, -5.9486e-02, -5.4495e-02, -6.8460e-02,  7.5084e-02,\n",
      "         -1.1612e-02, -2.6608e-02, -4.1282e-02, -2.7599e-02, -4.4912e-02,\n",
      "          1.4068e-03,  3.7038e-02,  3.1174e-02, -7.3113e-02,  1.6279e-02,\n",
      "          4.0597e-03, -5.9542e-02,  7.7485e-03, -2.6847e-02, -1.0150e-01,\n",
      "         -9.4298e-03, -2.9296e-02,  2.6273e-03, -4.3137e-03, -7.1789e-02,\n",
      "          9.5401e-03, -2.7899e-02, -4.9935e-02, -1.0375e-01, -8.2634e-02,\n",
      "          8.8442e-03,  2.6509e-02,  1.4103e-01, -1.9356e-02,  8.4473e-02,\n",
      "         -2.0119e-02,  9.3410e-02,  3.4884e-02, -2.9532e-02,  5.2464e-02,\n",
      "         -9.5557e-02,  1.5786e-02,  6.7373e-04, -4.8705e-02, -9.6627e-02,\n",
      "         -8.2990e-02,  3.9189e-02,  2.5176e-04,  5.1617e-02,  8.3068e-02,\n",
      "         -1.1054e-01,  4.2058e-02,  5.5359e-02, -2.6994e-02,  3.4746e-02,\n",
      "          5.5822e-02, -5.7116e-02,  5.4532e-02,  4.6211e-02, -3.2326e-02,\n",
      "         -4.1540e-02, -7.9687e-02, -8.2481e-02, -4.4082e-04, -5.9416e-02,\n",
      "         -2.2557e-02, -6.9691e-02,  9.4520e-02, -4.2576e-02, -4.3205e-02,\n",
      "         -8.6177e-02, -2.5368e-02, -2.4631e-02,  3.2351e-02,  3.2838e-02,\n",
      "         -2.6915e-02,  3.9792e-03,  3.4878e-03,  9.8692e-02,  8.1106e-02,\n",
      "         -1.1727e-02, -5.2245e-03, -5.9538e-02,  4.7578e-02,  4.7096e-02,\n",
      "          7.2224e-02, -1.0658e-02,  1.7863e-02,  1.1622e-01, -4.6307e-02,\n",
      "          4.2272e-02,  1.5341e-02, -9.1660e-03, -4.8804e-02, -3.6185e-02,\n",
      "         -4.9867e-02, -1.0593e-01,  1.3291e-02, -1.2590e-02, -5.9970e-02,\n",
      "         -3.8765e-03, -9.0075e-02,  3.9078e-02,  7.2960e-02, -3.1646e-02,\n",
      "         -4.4739e-02,  7.2900e-02,  3.9068e-02,  4.8675e-02, -1.0387e-02,\n",
      "          2.5977e-02,  3.5042e-02,  8.2593e-03,  3.3763e-02, -7.3834e-02,\n",
      "         -8.1654e-02,  2.4170e-02,  3.5508e-02, -1.5260e-02,  4.1675e-02,\n",
      "          4.7774e-02, -1.3154e-02,  4.0460e-02, -3.8458e-02,  7.0384e-02,\n",
      "          3.0010e-02,  5.6700e-02,  3.5935e-02,  1.0294e-02, -4.7614e-02,\n",
      "          4.6214e-03, -3.3459e-02,  7.6013e-02,  5.3247e-02,  1.9707e-03,\n",
      "         -3.6809e-02, -6.1873e-02, -8.5943e-02, -5.8644e-02,  8.2155e-02,\n",
      "          9.7638e-03, -2.4146e-03, -1.6280e-03,  6.2033e-02, -3.1894e-02,\n",
      "          6.4097e-02,  1.2780e-01, -5.6605e-02, -5.1259e-02, -6.1150e-02,\n",
      "         -2.8957e-02,  2.4955e-02,  1.2647e-02]], grad_fn=<TanhBackward0>), hidden_states=None, attentions=None)\n"
     ]
    }
   ],
   "source": [
    "print(sample_output)"
   ]
  },
  {
   "cell_type": "code",
   "execution_count": 25,
   "metadata": {
    "colab": {
     "base_uri": "https://localhost:8080/"
    },
    "executionInfo": {
     "elapsed": 3,
     "status": "ok",
     "timestamp": 1642836666496,
     "user": {
      "displayName": "Faerie Mattins",
      "photoUrl": "https://lh3.googleusercontent.com/a-/AOh14GioC2l5h-WyYv75UEkACBUNdG2iNVemsmA1kWM_HA=s64",
      "userId": "14162521248288859983"
     },
     "user_tz": -330
    },
    "id": "WPN52SytkMYv",
    "outputId": "a5d89979-0675-4c09-feda-49389d7a2196"
   },
   "outputs": [
    {
     "name": "stdout",
     "output_type": "stream",
     "text": [
      "(1, 768)\n"
     ]
    }
   ],
   "source": [
    "print(sample_output.pooler_output.cpu().detach().numpy().shape)"
   ]
  },
  {
   "cell_type": "code",
   "execution_count": 26,
   "metadata": {
    "executionInfo": {
     "elapsed": 1948,
     "status": "ok",
     "timestamp": 1642836670503,
     "user": {
      "displayName": "Faerie Mattins",
      "photoUrl": "https://lh3.googleusercontent.com/a-/AOh14GioC2l5h-WyYv75UEkACBUNdG2iNVemsmA1kWM_HA=s64",
      "userId": "14162521248288859983"
     },
     "user_tz": -330
    },
    "id": "DSjkcWpAirTg"
   },
   "outputs": [],
   "source": [
    "# Tokenizing Input Data\n",
    "input = []\n",
    "\n",
    "for i in text:\n",
    "    tokenized_input = tokenizer(\n",
    "        i,\n",
    "        padding=True,\n",
    "        truncation=True,  # Set truncation to True\n",
    "        max_length=512,  # Set max_length to 512\n",
    "        return_tensors='pt'\n",
    "    )\n",
    "    input.append(tokenized_input)"
   ]
  },
  {
   "cell_type": "code",
   "execution_count": 27,
   "metadata": {
    "colab": {
     "base_uri": "https://localhost:8080/"
    },
    "executionInfo": {
     "elapsed": 1100931,
     "status": "ok",
     "timestamp": 1642837788734,
     "user": {
      "displayName": "Faerie Mattins",
      "photoUrl": "https://lh3.googleusercontent.com/a-/AOh14GioC2l5h-WyYv75UEkACBUNdG2iNVemsmA1kWM_HA=s64",
      "userId": "14162521248288859983"
     },
     "user_tz": -330
    },
    "id": "04wzA-Qmknyx",
    "outputId": "ba72db5b-1d50-4249-809c-d152fb5fa0cc"
   },
   "outputs": [
    {
     "name": "stdout",
     "output_type": "stream",
     "text": [
      "./IndicBert-Model1-Embedded-TrainData/output1.pickle done\n",
      "./IndicBert-Model1-Embedded-TrainData/output2.pickle done\n",
      "./IndicBert-Model1-Embedded-TrainData/output3.pickle done\n",
      "./IndicBert-Model1-Embedded-TrainData/output4.pickle done\n",
      "./IndicBert-Model1-Embedded-TrainData/output5.pickle done\n",
      "./IndicBert-Model1-Embedded-TrainData/output6.pickle done\n"
     ]
    }
   ],
   "source": [
    "# Directory path\n",
    "output_dir = \"./IndicBert-Model1-Embedded-TrainData/\"\n",
    "os.makedirs(output_dir, exist_ok=True)\n",
    "\n",
    "# Embedding the Input Data\n",
    "\n",
    "output = []\n",
    "\n",
    "j = 1\n",
    "\n",
    "for i in range(len(input)):\n",
    "    \n",
    "    # Check if the input text is longer than the maximum length\n",
    "    if input[i]['input_ids'].size(1) > 512:\n",
    "        # Truncate the input text to the maximum length\n",
    "        input[i]['input_ids'] = input[i]['input_ids'][:, :512]\n",
    "        input[i]['attention_mask'] = input[i]['attention_mask'][:, :512]\n",
    "\n",
    "    model_output = model(**input[i])\n",
    "    model_output = model_output.pooler_output.cpu().detach().numpy()\n",
    "    output.append(model_output)\n",
    "    \n",
    "    # Saving Embedded Input Data to Disk\n",
    "\n",
    "    if ((i + 1) % 200) == 0:\n",
    "        \n",
    "        file_name = \"./IndicBert-Model1-Embedded-TrainData/output\" + str(j) + \".pickle\"\n",
    "        \n",
    "        with open(file_name, \"wb\") as fp:   \n",
    "            # Pickling\n",
    "            pickle.dump(output, fp)\n",
    "        \n",
    "        print(file_name + \" done\")\n",
    "        output = []\n",
    "        j += 1\n",
    "        \n",
    "file_name = \"./IndicBert-Model1-Embedded-TrainData/output\" + str(j) + \".pickle\"\n",
    "\n",
    "with open(file_name, \"wb\") as fp:   \n",
    "    # Pickling\n",
    "    pickle.dump(output, fp)\n",
    "\n",
    "print(file_name + \" done\")\n",
    "output = []"
   ]
  },
  {
   "cell_type": "code",
   "execution_count": 34,
   "metadata": {
    "colab": {
     "base_uri": "https://localhost:8080/"
    },
    "executionInfo": {
     "elapsed": 668,
     "status": "ok",
     "timestamp": 1642838239688,
     "user": {
      "displayName": "Faerie Mattins",
      "photoUrl": "https://lh3.googleusercontent.com/a-/AOh14GioC2l5h-WyYv75UEkACBUNdG2iNVemsmA1kWM_HA=s64",
      "userId": "14162521248288859983"
     },
     "user_tz": -330
    },
    "id": "JiGIzqtKmjeP",
    "outputId": "3233359c-a6c0-45ae-a7cb-42b9c2531c32"
   },
   "outputs": [
    {
     "name": "stdout",
     "output_type": "stream",
     "text": [
      "./IndicBert-Model1-Embedded-TrainData/output1.pickle done\n",
      "./IndicBert-Model1-Embedded-TrainData/output2.pickle done\n",
      "./IndicBert-Model1-Embedded-TrainData/output3.pickle done\n",
      "./IndicBert-Model1-Embedded-TrainData/output4.pickle done\n",
      "./IndicBert-Model1-Embedded-TrainData/output5.pickle done\n",
      "./IndicBert-Model1-Embedded-TrainData/output6.pickle done\n"
     ]
    }
   ],
   "source": [
    "# Loading Embedded Input Data from Disk\n",
    "\n",
    "output = []\n",
    "\n",
    "for i in range(6):\n",
    "    file_name = \"./IndicBert-Model1-Embedded-TrainData/output\" + str(i + 1) + \".pickle\"\n",
    "    with open(file_name, \"rb\") as fp:   #Pickling\n",
    "        file_output = pickle.load(fp)\n",
    "        for x in file_output:\n",
    "            output.append(x)\n",
    "    print(file_name + \" done\")\n",
    "\n",
    "X = output\n",
    "output = []"
   ]
  },
  {
   "cell_type": "code",
   "execution_count": 35,
   "metadata": {
    "colab": {
     "base_uri": "https://localhost:8080/"
    },
    "executionInfo": {
     "elapsed": 3,
     "status": "ok",
     "timestamp": 1642838241924,
     "user": {
      "displayName": "Faerie Mattins",
      "photoUrl": "https://lh3.googleusercontent.com/a-/AOh14GioC2l5h-WyYv75UEkACBUNdG2iNVemsmA1kWM_HA=s64",
      "userId": "14162521248288859983"
     },
     "user_tz": -330
    },
    "id": "D8GZw0G4snib",
    "outputId": "c11a0d8d-9bff-41e3-9b96-3ac3394fa6d9"
   },
   "outputs": [
    {
     "data": {
      "text/plain": [
       "(1001, 1, 768)"
      ]
     },
     "execution_count": 35,
     "metadata": {},
     "output_type": "execute_result"
    }
   ],
   "source": [
    "X = np.array(X)\n",
    "X.shape"
   ]
  },
  {
   "cell_type": "code",
   "execution_count": 36,
   "metadata": {
    "colab": {
     "base_uri": "https://localhost:8080/"
    },
    "executionInfo": {
     "elapsed": 2,
     "status": "ok",
     "timestamp": 1642838242474,
     "user": {
      "displayName": "Faerie Mattins",
      "photoUrl": "https://lh3.googleusercontent.com/a-/AOh14GioC2l5h-WyYv75UEkACBUNdG2iNVemsmA1kWM_HA=s64",
      "userId": "14162521248288859983"
     },
     "user_tz": -330
    },
    "id": "RVY644kz3fmY",
    "outputId": "6175fa3b-1c89-4ce6-c1fa-1c4fa493e372"
   },
   "outputs": [
    {
     "data": {
      "text/plain": [
       "(1001, 768)"
      ]
     },
     "execution_count": 36,
     "metadata": {},
     "output_type": "execute_result"
    }
   ],
   "source": [
    "X = X.reshape(-1, 768)\n",
    "X.shape"
   ]
  },
  {
   "cell_type": "code",
   "execution_count": 37,
   "metadata": {
    "colab": {
     "base_uri": "https://localhost:8080/"
    },
    "executionInfo": {
     "elapsed": 5,
     "status": "ok",
     "timestamp": 1642838244057,
     "user": {
      "displayName": "Faerie Mattins",
      "photoUrl": "https://lh3.googleusercontent.com/a-/AOh14GioC2l5h-WyYv75UEkACBUNdG2iNVemsmA1kWM_HA=s64",
      "userId": "14162521248288859983"
     },
     "user_tz": -330
    },
    "id": "Afj3ktv4sh_n",
    "outputId": "eab16538-87c4-4b53-d005-15935ee89a6f"
   },
   "outputs": [
    {
     "data": {
      "text/plain": [
       "(1001,)"
      ]
     },
     "execution_count": 37,
     "metadata": {},
     "output_type": "execute_result"
    }
   ],
   "source": [
    "y = label\n",
    "y.shape"
   ]
  },
  {
   "cell_type": "markdown",
   "metadata": {
    "id": "Yx-irLz_1zqa"
   },
   "source": [
    "## **Train Test Split**"
   ]
  },
  {
   "cell_type": "code",
   "execution_count": 38,
   "metadata": {
    "executionInfo": {
     "elapsed": 2,
     "status": "ok",
     "timestamp": 1642838244637,
     "user": {
      "displayName": "Faerie Mattins",
      "photoUrl": "https://lh3.googleusercontent.com/a-/AOh14GioC2l5h-WyYv75UEkACBUNdG2iNVemsmA1kWM_HA=s64",
      "userId": "14162521248288859983"
     },
     "user_tz": -330
    },
    "id": "kKPsOhmVsm6d"
   },
   "outputs": [],
   "source": [
    "# Split the data into training and validation sets\n",
    "X_train, X_val, y_train, y_val = train_test_split(X, y, test_size=0.2, random_state=42)"
   ]
  },
  {
   "cell_type": "code",
   "execution_count": 39,
   "metadata": {
    "colab": {
     "base_uri": "https://localhost:8080/"
    },
    "executionInfo": {
     "elapsed": 4,
     "status": "ok",
     "timestamp": 1642838246430,
     "user": {
      "displayName": "Faerie Mattins",
      "photoUrl": "https://lh3.googleusercontent.com/a-/AOh14GioC2l5h-WyYv75UEkACBUNdG2iNVemsmA1kWM_HA=s64",
      "userId": "14162521248288859983"
     },
     "user_tz": -330
    },
    "id": "sLgRQz2K187N",
    "outputId": "e6b3cafc-d070-48a1-fa1f-aa9fcc3889d6"
   },
   "outputs": [
    {
     "data": {
      "text/plain": [
       "(800, 768)"
      ]
     },
     "execution_count": 39,
     "metadata": {},
     "output_type": "execute_result"
    }
   ],
   "source": [
    "X_train.shape"
   ]
  },
  {
   "cell_type": "code",
   "execution_count": 40,
   "metadata": {
    "colab": {
     "base_uri": "https://localhost:8080/"
    },
    "executionInfo": {
     "elapsed": 3,
     "status": "ok",
     "timestamp": 1642838247559,
     "user": {
      "displayName": "Faerie Mattins",
      "photoUrl": "https://lh3.googleusercontent.com/a-/AOh14GioC2l5h-WyYv75UEkACBUNdG2iNVemsmA1kWM_HA=s64",
      "userId": "14162521248288859983"
     },
     "user_tz": -330
    },
    "id": "jvmxkn1Z1-ij",
    "outputId": "fce8c710-27cb-4f56-9023-86c20f3f6208"
   },
   "outputs": [
    {
     "data": {
      "text/plain": [
       "(201, 768)"
      ]
     },
     "execution_count": 40,
     "metadata": {},
     "output_type": "execute_result"
    }
   ],
   "source": [
    "X_val.shape"
   ]
  },
  {
   "cell_type": "markdown",
   "metadata": {
    "id": "SCu6BNbhBg7J"
   },
   "source": [
    "## **Logistic Regression**"
   ]
  },
  {
   "cell_type": "code",
   "execution_count": 41,
   "metadata": {
    "colab": {
     "base_uri": "https://localhost:8080/"
    },
    "executionInfo": {
     "elapsed": 594,
     "status": "ok",
     "timestamp": 1642838253610,
     "user": {
      "displayName": "Faerie Mattins",
      "photoUrl": "https://lh3.googleusercontent.com/a-/AOh14GioC2l5h-WyYv75UEkACBUNdG2iNVemsmA1kWM_HA=s64",
      "userId": "14162521248288859983"
     },
     "user_tz": -330
    },
    "id": "ywNZ89i9BQn8",
    "outputId": "16288b10-9b7f-40f0-8905-45a0f6225b0d"
   },
   "outputs": [
    {
     "name": "stdout",
     "output_type": "stream",
     "text": [
      "              precision    recall  f1-score   support\n",
      "\n",
      "           1       0.61      1.00      0.76       122\n",
      "           2       1.00      0.00      0.00        78\n",
      "           3       1.00      0.00      0.00         1\n",
      "\n",
      "    accuracy                           0.61       201\n",
      "   macro avg       0.87      0.33      0.25       201\n",
      "weighted avg       0.76      0.61      0.46       201\n",
      "\n"
     ]
    }
   ],
   "source": [
    "lr = LogisticRegression()\n",
    "lr.fit(X_train, y_train)\n",
    "lr_pred = lr.predict(X_val)\n",
    "print(classification_report(y_val, lr_pred,zero_division=1))"
   ]
  },
  {
   "cell_type": "markdown",
   "metadata": {
    "id": "Z9CCgjxuEe3P"
   },
   "source": [
    "## **Naive Bayes**"
   ]
  },
  {
   "cell_type": "code",
   "execution_count": 42,
   "metadata": {
    "colab": {
     "base_uri": "https://localhost:8080/"
    },
    "executionInfo": {
     "elapsed": 18,
     "status": "ok",
     "timestamp": 1642838264519,
     "user": {
      "displayName": "Faerie Mattins",
      "photoUrl": "https://lh3.googleusercontent.com/a-/AOh14GioC2l5h-WyYv75UEkACBUNdG2iNVemsmA1kWM_HA=s64",
      "userId": "14162521248288859983"
     },
     "user_tz": -330
    },
    "id": "RqPoOLKMEc8H",
    "outputId": "af8e1a74-7aee-4a79-bf3f-7a3259efefa2"
   },
   "outputs": [
    {
     "name": "stdout",
     "output_type": "stream",
     "text": [
      "              precision    recall  f1-score   support\n",
      "\n",
      "           1       0.68      0.40      0.51       122\n",
      "           2       0.43      0.71      0.53        78\n",
      "           3       1.00      0.00      0.00         1\n",
      "\n",
      "    accuracy                           0.52       201\n",
      "   macro avg       0.70      0.37      0.35       201\n",
      "weighted avg       0.58      0.52      0.51       201\n",
      "\n"
     ]
    }
   ],
   "source": [
    "nb = GaussianNB()\n",
    "nb.fit(X_train, y_train)\n",
    "nb_pred = nb.predict(X_val)\n",
    "print(classification_report(y_val, nb_pred,zero_division=1))"
   ]
  },
  {
   "cell_type": "markdown",
   "metadata": {
    "id": "z-EIDfZKHrVj"
   },
   "source": [
    "## **Loading Testing Data**"
   ]
  },
  {
   "cell_type": "code",
   "execution_count": 43,
   "metadata": {
    "colab": {
     "base_uri": "https://localhost:8080/",
     "height": 206
    },
    "executionInfo": {
     "elapsed": 691,
     "status": "ok",
     "timestamp": 1642838437991,
     "user": {
      "displayName": "Faerie Mattins",
      "photoUrl": "https://lh3.googleusercontent.com/a-/AOh14GioC2l5h-WyYv75UEkACBUNdG2iNVemsmA1kWM_HA=s64",
      "userId": "14162521248288859983"
     },
     "user_tz": -330
    },
    "id": "8Bm4WHV2HmYo",
    "outputId": "68165996-3062-4754-c464-d5abb0892bfc"
   },
   "outputs": [
    {
     "data": {
      "text/html": [
       "<div>\n",
       "<style scoped>\n",
       "    .dataframe tbody tr th:only-of-type {\n",
       "        vertical-align: middle;\n",
       "    }\n",
       "\n",
       "    .dataframe tbody tr th {\n",
       "        vertical-align: top;\n",
       "    }\n",
       "\n",
       "    .dataframe thead th {\n",
       "        text-align: right;\n",
       "    }\n",
       "</style>\n",
       "<table border=\"1\" class=\"dataframe\">\n",
       "  <thead>\n",
       "    <tr style=\"text-align: right;\">\n",
       "      <th></th>\n",
       "      <th>id</th>\n",
       "      <th>text</th>\n",
       "    </tr>\n",
       "  </thead>\n",
       "  <tbody>\n",
       "    <tr>\n",
       "      <th>0</th>\n",
       "      <td>TA_TW15946</td>\n",
       "      <td>Take it this thevidiya Kandipa indha page admi...</td>\n",
       "    </tr>\n",
       "    <tr>\n",
       "      <th>1</th>\n",
       "      <td>TA_TW10175</td>\n",
       "      <td>enga veetla itha nadakum Athum oru varushama t...</td>\n",
       "    </tr>\n",
       "    <tr>\n",
       "      <th>2</th>\n",
       "      <td>TA_TW15947</td>\n",
       "      <td>Indha Sallli Punda, Dummy Pundalam Orama Iruka...</td>\n",
       "    </tr>\n",
       "    <tr>\n",
       "      <th>3</th>\n",
       "      <td>TA_TW15174</td>\n",
       "      <td>Juriya poola tier 1 la umburan tha kulla punda...</td>\n",
       "    </tr>\n",
       "    <tr>\n",
       "      <th>4</th>\n",
       "      <td>TA_TW15182</td>\n",
       "      <td>Kullans lam umba therila Loosu kuthi maari umb...</td>\n",
       "    </tr>\n",
       "  </tbody>\n",
       "</table>\n",
       "</div>"
      ],
      "text/plain": [
       "           id                                               text\n",
       "0  TA_TW15946  Take it this thevidiya Kandipa indha page admi...\n",
       "1  TA_TW10175  enga veetla itha nadakum Athum oru varushama t...\n",
       "2  TA_TW15947  Indha Sallli Punda, Dummy Pundalam Orama Iruka...\n",
       "3  TA_TW15174  Juriya poola tier 1 la umburan tha kulla punda...\n",
       "4  TA_TW15182  Kullans lam umba therila Loosu kuthi maari umb..."
      ]
     },
     "execution_count": 43,
     "metadata": {},
     "output_type": "execute_result"
    }
   ],
   "source": [
    "dataframe_test = pd.read_csv(\n",
    "    \"tanglish_test.csv\"\n",
    ")\n",
    "dataframe_test.head()"
   ]
  },
  {
   "cell_type": "code",
   "execution_count": 44,
   "metadata": {
    "colab": {
     "base_uri": "https://localhost:8080/",
     "height": 175
    },
    "executionInfo": {
     "elapsed": 9,
     "status": "ok",
     "timestamp": 1642838437992,
     "user": {
      "displayName": "Faerie Mattins",
      "photoUrl": "https://lh3.googleusercontent.com/a-/AOh14GioC2l5h-WyYv75UEkACBUNdG2iNVemsmA1kWM_HA=s64",
      "userId": "14162521248288859983"
     },
     "user_tz": -330
    },
    "id": "laZqSRuNHvQz",
    "outputId": "0e990a01-cafd-49c2-bbea-dc0c16681fdb"
   },
   "outputs": [
    {
     "data": {
      "text/html": [
       "<div>\n",
       "<style scoped>\n",
       "    .dataframe tbody tr th:only-of-type {\n",
       "        vertical-align: middle;\n",
       "    }\n",
       "\n",
       "    .dataframe tbody tr th {\n",
       "        vertical-align: top;\n",
       "    }\n",
       "\n",
       "    .dataframe thead th {\n",
       "        text-align: right;\n",
       "    }\n",
       "</style>\n",
       "<table border=\"1\" class=\"dataframe\">\n",
       "  <thead>\n",
       "    <tr style=\"text-align: right;\">\n",
       "      <th></th>\n",
       "      <th>id</th>\n",
       "      <th>text</th>\n",
       "    </tr>\n",
       "  </thead>\n",
       "  <tbody>\n",
       "    <tr>\n",
       "      <th>count</th>\n",
       "      <td>940</td>\n",
       "      <td>940</td>\n",
       "    </tr>\n",
       "    <tr>\n",
       "      <th>unique</th>\n",
       "      <td>939</td>\n",
       "      <td>933</td>\n",
       "    </tr>\n",
       "    <tr>\n",
       "      <th>top</th>\n",
       "      <td>TA_TW13798</td>\n",
       "      <td>RT  : Full Day Time Iruku !! 1 person 700 Twee...</td>\n",
       "    </tr>\n",
       "    <tr>\n",
       "      <th>freq</th>\n",
       "      <td>2</td>\n",
       "      <td>5</td>\n",
       "    </tr>\n",
       "  </tbody>\n",
       "</table>\n",
       "</div>"
      ],
      "text/plain": [
       "                id                                               text\n",
       "count          940                                                940\n",
       "unique         939                                                933\n",
       "top     TA_TW13798  RT  : Full Day Time Iruku !! 1 person 700 Twee...\n",
       "freq             2                                                  5"
      ]
     },
     "execution_count": 44,
     "metadata": {},
     "output_type": "execute_result"
    }
   ],
   "source": [
    "dataframe_test.describe()"
   ]
  },
  {
   "cell_type": "code",
   "execution_count": 45,
   "metadata": {
    "executionInfo": {
     "elapsed": 8,
     "status": "ok",
     "timestamp": 1642838438926,
     "user": {
      "displayName": "Faerie Mattins",
      "photoUrl": "https://lh3.googleusercontent.com/a-/AOh14GioC2l5h-WyYv75UEkACBUNdG2iNVemsmA1kWM_HA=s64",
      "userId": "14162521248288859983"
     },
     "user_tz": -330
    },
    "id": "781biQVoHxCq"
   },
   "outputs": [],
   "source": [
    "text_test = dataframe_test['text']"
   ]
  },
  {
   "cell_type": "markdown",
   "metadata": {
    "id": "Ymi3Y32-IYH0"
   },
   "source": [
    "## **Test Data Preprocessing**"
   ]
  },
  {
   "cell_type": "code",
   "execution_count": 46,
   "metadata": {
    "executionInfo": {
     "elapsed": 1,
     "status": "ok",
     "timestamp": 1642838441930,
     "user": {
      "displayName": "Faerie Mattins",
      "photoUrl": "https://lh3.googleusercontent.com/a-/AOh14GioC2l5h-WyYv75UEkACBUNdG2iNVemsmA1kWM_HA=s64",
      "userId": "14162521248288859983"
     },
     "user_tz": -330
    },
    "id": "vpcPA6csIWu2"
   },
   "outputs": [],
   "source": [
    "text_test = text_test.str.replace(r\"[+/#@&*$%:]\",'')\n",
    "text_test = text_test.to_numpy()"
   ]
  },
  {
   "cell_type": "code",
   "execution_count": 47,
   "metadata": {
    "executionInfo": {
     "elapsed": 515,
     "status": "ok",
     "timestamp": 1642838458164,
     "user": {
      "displayName": "Faerie Mattins",
      "photoUrl": "https://lh3.googleusercontent.com/a-/AOh14GioC2l5h-WyYv75UEkACBUNdG2iNVemsmA1kWM_HA=s64",
      "userId": "14162521248288859983"
     },
     "user_tz": -330
    },
    "id": "yhPNR4btzUYF"
   },
   "outputs": [],
   "source": [
    "text_test = [stopwords_remove(s) for s in text_test]\n",
    "for i in range(len(text_test)):\n",
    "  text_test[i] = (\" \".join(text_test[i]))"
   ]
  },
  {
   "cell_type": "markdown",
   "metadata": {
    "id": "xA2vfLvcIkpU"
   },
   "source": [
    "## **Test Feature Extraction**"
   ]
  },
  {
   "cell_type": "code",
   "execution_count": 48,
   "metadata": {
    "colab": {
     "base_uri": "https://localhost:8080/"
    },
    "executionInfo": {
     "elapsed": 5004,
     "status": "ok",
     "timestamp": 1642838465294,
     "user": {
      "displayName": "Faerie Mattins",
      "photoUrl": "https://lh3.googleusercontent.com/a-/AOh14GioC2l5h-WyYv75UEkACBUNdG2iNVemsmA1kWM_HA=s64",
      "userId": "14162521248288859983"
     },
     "user_tz": -330
    },
    "id": "e9ZvZq5FIjMS",
    "outputId": "a2791988-7d69-4783-d6e9-c5322efdd267"
   },
   "outputs": [
    {
     "name": "stderr",
     "output_type": "stream",
     "text": [
      "C:\\Users\\harsh\\AppData\\Local\\Programs\\Python\\Python311\\Lib\\site-packages\\transformers\\tokenization_utils_base.py:1617: FutureWarning: `clean_up_tokenization_spaces` was not set. It will be set to `True` by default. This behavior will be deprecated in transformers v4.45, and will be then set to `False` by default. For more details check this issue: https://github.com/huggingface/transformers/issues/31884\n",
      "  warnings.warn(\n"
     ]
    }
   ],
   "source": [
    "# Load Transformer Model\n",
    "\n",
    "tokenizer = AutoTokenizer.from_pretrained(\"ai4bharat/indic-bert\")\n",
    "model = AutoModel.from_pretrained(\"ai4bharat/indic-bert\")"
   ]
  },
  {
   "cell_type": "code",
   "execution_count": 49,
   "metadata": {
    "executionInfo": {
     "elapsed": 609,
     "status": "ok",
     "timestamp": 1642838465900,
     "user": {
      "displayName": "Faerie Mattins",
      "photoUrl": "https://lh3.googleusercontent.com/a-/AOh14GioC2l5h-WyYv75UEkACBUNdG2iNVemsmA1kWM_HA=s64",
      "userId": "14162521248288859983"
     },
     "user_tz": -330
    },
    "id": "9MeZTCfrIvuG"
   },
   "outputs": [],
   "source": [
    "# Sample Output\n",
    "\n",
    "tokenized_input = tokenizer(\n",
    "        text_test[0],\n",
    "        padding=True,\n",
    "        truncation=False,\n",
    "        return_tensors='pt'\n",
    "    )\n",
    "\n",
    "sample_output = model(**tokenized_input)"
   ]
  },
  {
   "cell_type": "code",
   "execution_count": 50,
   "metadata": {
    "colab": {
     "base_uri": "https://localhost:8080/"
    },
    "executionInfo": {
     "elapsed": 15,
     "status": "ok",
     "timestamp": 1642838465901,
     "user": {
      "displayName": "Faerie Mattins",
      "photoUrl": "https://lh3.googleusercontent.com/a-/AOh14GioC2l5h-WyYv75UEkACBUNdG2iNVemsmA1kWM_HA=s64",
      "userId": "14162521248288859983"
     },
     "user_tz": -330
    },
    "id": "3C_ZSq9iI1rS",
    "outputId": "622de444-e9b7-4cfb-ce71-a50ce6dd7b15"
   },
   "outputs": [
    {
     "name": "stdout",
     "output_type": "stream",
     "text": [
      "{'input_ids': tensor([[     2,   1208,    145,    255,     11,  53120,  13690,  89728,    326,\n",
      "         132766,     26,  29571,  25019,  32658,    388,   3067,  31698,   2804,\n",
      "          93131,      8, 159891,  23496,  38726,      8,  63446,      8,    669,\n",
      "           3646,   1747,      3]]), 'token_type_ids': tensor([[0, 0, 0, 0, 0, 0, 0, 0, 0, 0, 0, 0, 0, 0, 0, 0, 0, 0, 0, 0, 0, 0, 0, 0,\n",
      "         0, 0, 0, 0, 0, 0]]), 'attention_mask': tensor([[1, 1, 1, 1, 1, 1, 1, 1, 1, 1, 1, 1, 1, 1, 1, 1, 1, 1, 1, 1, 1, 1, 1, 1,\n",
      "         1, 1, 1, 1, 1, 1]])}\n"
     ]
    }
   ],
   "source": [
    "print(tokenized_input)"
   ]
  },
  {
   "cell_type": "code",
   "execution_count": 51,
   "metadata": {
    "colab": {
     "base_uri": "https://localhost:8080/"
    },
    "executionInfo": {
     "elapsed": 14,
     "status": "ok",
     "timestamp": 1642838465901,
     "user": {
      "displayName": "Faerie Mattins",
      "photoUrl": "https://lh3.googleusercontent.com/a-/AOh14GioC2l5h-WyYv75UEkACBUNdG2iNVemsmA1kWM_HA=s64",
      "userId": "14162521248288859983"
     },
     "user_tz": -330
    },
    "id": "cgDXMGPYI5-T",
    "outputId": "5b57aacd-a5a7-4ee2-f380-a3326fa78a08"
   },
   "outputs": [
    {
     "name": "stdout",
     "output_type": "stream",
     "text": [
      "BaseModelOutputWithPooling(last_hidden_state=tensor([[[-1.5096e-02,  4.5741e-04, -1.1106e-02,  ..., -2.3705e-02,\n",
      "           4.8319e-04, -5.1492e-03],\n",
      "         [ 3.7483e-02, -4.0080e-01, -5.4150e-01,  ...,  2.2347e-01,\n",
      "           1.0601e-01, -4.3476e-01],\n",
      "         [-5.3260e-01,  5.4175e-02, -3.2408e-01,  ...,  3.8509e-02,\n",
      "          -2.0885e-01, -3.7199e-01],\n",
      "         ...,\n",
      "         [ 3.5791e-02, -5.7334e-01, -5.8179e-02,  ...,  3.3078e-01,\n",
      "           3.2219e-01,  1.1866e-01],\n",
      "         [ 4.8543e-01, -1.8609e-02, -3.8501e-02,  ...,  2.9662e-01,\n",
      "           2.2324e-01, -3.0463e-01],\n",
      "         [-1.5096e-02,  4.5756e-04, -1.1106e-02,  ..., -2.3705e-02,\n",
      "           4.8286e-04, -5.1495e-03]]], grad_fn=<NativeLayerNormBackward0>), pooler_output=tensor([[-5.5415e-02,  5.5580e-02,  1.2920e-02, -1.1566e-03,  4.2868e-02,\n",
      "          8.3187e-02,  4.0720e-02, -1.4572e-02, -1.1160e-02,  6.0825e-02,\n",
      "         -9.2120e-03,  4.8758e-02,  1.9327e-02, -1.7647e-02,  4.8135e-02,\n",
      "         -1.7882e-02, -4.5443e-02,  1.2317e-04, -1.1859e-01, -8.3632e-02,\n",
      "          7.9916e-02,  7.8454e-02, -3.0203e-02, -9.9203e-02,  3.2207e-03,\n",
      "         -3.7220e-02, -5.1511e-02, -3.5604e-03,  2.4342e-02,  7.9307e-03,\n",
      "          2.3147e-02,  1.1383e-03,  1.3068e-02,  3.5619e-02, -2.1255e-03,\n",
      "         -3.7764e-02, -1.9297e-02, -2.1345e-02,  1.1272e-01,  2.1165e-02,\n",
      "          2.9431e-02, -2.6350e-02, -1.1571e-01,  4.7628e-02, -6.8439e-02,\n",
      "         -2.5251e-02,  3.0570e-02, -6.8068e-02, -4.1706e-02,  8.6498e-03,\n",
      "         -5.0365e-02, -1.7285e-02,  1.5613e-02, -2.3845e-02, -2.4113e-02,\n",
      "          4.9030e-02, -1.5786e-02, -3.0809e-02,  5.6099e-02, -7.6979e-03,\n",
      "          1.3912e-02,  1.2757e-02,  7.5507e-02,  9.8478e-02,  2.7118e-02,\n",
      "         -2.3877e-02,  8.3862e-02,  1.0080e-01,  6.9629e-02,  2.0470e-02,\n",
      "          3.9803e-02, -2.4587e-02,  7.6671e-03,  1.6174e-01,  2.4221e-02,\n",
      "          2.6631e-02,  1.7659e-02,  5.7781e-03, -9.2957e-02,  5.8833e-02,\n",
      "          3.3420e-02, -4.9091e-02,  3.4953e-02,  1.6025e-02, -4.4412e-02,\n",
      "          2.9231e-02,  5.4622e-03,  5.5076e-02, -9.5198e-03, -2.6639e-02,\n",
      "          1.9775e-02, -9.7196e-02,  9.0500e-02,  8.7838e-02,  6.3504e-02,\n",
      "          5.6439e-03,  2.1618e-02, -9.6175e-03, -3.5394e-02,  4.8839e-02,\n",
      "         -5.6728e-02,  1.2854e-01, -6.9492e-02,  9.3929e-02,  6.5049e-02,\n",
      "         -4.3013e-02,  3.9401e-02, -5.7612e-02,  3.8709e-02,  5.8064e-02,\n",
      "         -2.1324e-02,  5.0657e-02,  4.0024e-02, -1.2489e-02, -6.7680e-02,\n",
      "          7.9652e-02, -1.2307e-01, -8.8008e-02, -6.3385e-02,  5.8609e-02,\n",
      "         -1.2132e-02,  6.9690e-02,  1.2157e-02, -7.4420e-02, -7.0339e-02,\n",
      "          6.6678e-02,  8.8113e-02,  9.0688e-02,  3.1176e-02, -1.4595e-02,\n",
      "         -4.5754e-02,  4.1260e-02, -1.3588e-02,  3.8594e-02,  9.8423e-02,\n",
      "         -6.2498e-02, -3.0440e-03, -6.0750e-03, -9.7637e-03,  1.3817e-02,\n",
      "         -3.8897e-02, -8.0033e-03, -7.2907e-02, -1.2507e-02, -1.0996e-02,\n",
      "          1.6073e-03, -2.9593e-02, -3.7905e-02, -2.2160e-02,  5.3856e-02,\n",
      "          8.3488e-02,  2.4457e-03,  6.6842e-03, -1.0649e-02, -8.7498e-02,\n",
      "         -7.6524e-03,  3.3741e-02, -9.8484e-02,  5.8018e-02,  8.3779e-02,\n",
      "          2.6248e-02,  8.1662e-02, -6.2159e-02,  2.5951e-02,  3.9616e-02,\n",
      "         -6.6560e-02,  7.4523e-03, -9.3617e-02,  9.1485e-02, -8.2078e-02,\n",
      "          2.6898e-02,  2.4692e-02,  2.6000e-02, -4.2854e-02, -4.5482e-02,\n",
      "         -1.8784e-02,  1.6948e-02, -2.8391e-03, -6.4908e-02, -2.7317e-02,\n",
      "         -8.0039e-03,  6.4654e-02,  4.7861e-02,  3.5064e-02, -6.3149e-02,\n",
      "          1.5750e-02,  5.0580e-02, -6.4474e-02, -1.4480e-03, -8.9038e-02,\n",
      "         -7.0869e-02,  6.8855e-02,  5.1116e-02, -8.6486e-02,  2.1551e-02,\n",
      "         -5.2953e-03,  3.8835e-02,  2.0085e-02,  9.5126e-02, -6.4537e-02,\n",
      "         -3.4832e-02,  9.0316e-02, -3.3110e-02, -6.5237e-02, -5.6533e-02,\n",
      "         -2.2330e-02, -1.0248e-01,  5.1102e-02, -9.0104e-03,  2.9661e-02,\n",
      "          3.5212e-02, -1.9605e-02,  5.4005e-02,  3.3652e-02, -3.8086e-02,\n",
      "          2.7617e-03, -6.3624e-02,  3.5115e-02,  3.5578e-02,  3.9644e-02,\n",
      "         -6.5251e-03, -9.1771e-02, -3.7206e-02, -3.9783e-02,  1.2029e-02,\n",
      "         -2.0494e-02, -8.4100e-02, -3.1161e-02,  6.5722e-03,  4.0402e-03,\n",
      "         -4.2355e-02, -1.5132e-01,  3.4403e-02, -2.0660e-02, -7.2805e-02,\n",
      "          7.5165e-03,  9.9573e-03,  3.1135e-02,  4.1819e-02, -6.9410e-03,\n",
      "          3.4910e-02,  1.0831e-02,  6.9517e-03, -3.1733e-02, -6.9218e-02,\n",
      "          7.4497e-02,  1.1099e-02, -1.0258e-01,  5.3782e-02,  6.9821e-03,\n",
      "          1.2655e-01,  3.2748e-02, -4.4483e-02,  3.8687e-02,  5.6771e-02,\n",
      "          7.7128e-02,  4.5980e-02,  3.5340e-02, -1.6123e-02, -4.7262e-02,\n",
      "          2.5273e-02,  5.9940e-03, -3.6088e-02, -3.0845e-03,  3.3958e-02,\n",
      "         -2.4155e-02, -2.1154e-02,  5.8963e-02,  3.7263e-02, -6.0139e-02,\n",
      "         -6.8542e-02,  8.3393e-02,  7.5066e-02,  4.5473e-02, -2.9405e-02,\n",
      "          7.7105e-02, -1.3701e-02,  4.4148e-02,  1.1913e-01,  6.2377e-02,\n",
      "          7.3474e-02, -7.2301e-02, -8.5507e-02, -6.0822e-02,  5.3993e-02,\n",
      "         -1.6517e-02,  7.2360e-02,  3.6575e-02, -5.7251e-02,  5.6476e-02,\n",
      "          7.6405e-02,  6.0887e-02, -5.1387e-02,  2.1278e-02, -6.6683e-03,\n",
      "         -3.2157e-02,  1.1053e-01,  1.0618e-01,  1.0101e-01, -1.0673e-02,\n",
      "         -1.5556e-03,  9.3970e-03,  4.7322e-02, -9.0378e-03, -9.0785e-02,\n",
      "         -7.6643e-03, -4.9918e-02,  3.6520e-03, -4.5516e-02,  6.9517e-02,\n",
      "          4.8009e-03,  5.4266e-02,  9.4559e-02, -4.9654e-02,  1.6965e-02,\n",
      "          1.2929e-01, -6.6575e-02,  4.0401e-03, -9.2833e-04,  2.1062e-02,\n",
      "          5.4008e-02, -7.5565e-02, -7.5413e-02,  1.7110e-03, -1.1540e-02,\n",
      "          8.5824e-03,  3.4420e-02, -1.8824e-03, -3.0322e-02, -8.9093e-02,\n",
      "          5.3828e-02, -1.8058e-02, -7.0994e-02, -1.4913e-02, -1.8651e-02,\n",
      "          1.6760e-02,  1.2508e-03,  5.9963e-02,  4.4041e-02, -1.9004e-02,\n",
      "         -7.3158e-02, -4.5427e-02, -5.2244e-02, -2.7479e-02,  2.8057e-02,\n",
      "          5.8913e-02,  3.7773e-03,  7.5136e-03, -5.7919e-02, -5.9908e-02,\n",
      "         -9.1997e-02,  5.1488e-02, -5.6149e-02,  8.0493e-02, -4.4513e-02,\n",
      "          3.5210e-02, -2.4642e-02, -1.0163e-01, -1.9676e-02, -4.3478e-02,\n",
      "          1.5666e-02, -6.5322e-03, -4.0322e-02,  2.5361e-02,  4.2963e-02,\n",
      "         -6.4158e-02, -2.8373e-02,  9.8630e-02,  1.6192e-02,  6.2267e-02,\n",
      "          7.7886e-02,  1.5234e-02,  5.1359e-02, -1.3576e-01,  2.8039e-02,\n",
      "          3.8229e-04,  2.5620e-02, -4.9367e-02,  4.9335e-02,  2.9673e-02,\n",
      "          7.0817e-02, -6.4065e-03,  2.9744e-02, -3.8533e-02,  2.2245e-03,\n",
      "         -2.4686e-02,  4.5960e-02, -9.4556e-03,  2.8528e-02,  6.4539e-02,\n",
      "         -1.5779e-02,  1.7876e-02, -6.7403e-02, -3.3814e-03,  1.5315e-02,\n",
      "          3.1702e-02,  8.7146e-02, -3.5195e-02,  2.6411e-04, -3.0147e-03,\n",
      "          1.7964e-02,  1.7721e-02, -7.5628e-03,  4.4860e-02, -2.7477e-02,\n",
      "         -1.4169e-01,  3.6882e-02,  9.2620e-02, -5.4085e-02, -4.6974e-02,\n",
      "         -5.1815e-02, -8.0113e-03,  3.3661e-02,  9.7260e-02, -2.3875e-02,\n",
      "          8.5230e-02,  2.0065e-02,  8.2820e-02, -1.9257e-02, -4.0138e-03,\n",
      "          6.0783e-02,  4.9341e-02,  3.2438e-02, -1.4932e-02,  8.1955e-02,\n",
      "          7.5527e-02,  1.1784e-02,  4.3894e-02, -6.2130e-03,  5.5195e-02,\n",
      "         -1.6021e-02,  5.2599e-02,  7.5082e-02,  8.0196e-02, -2.2544e-02,\n",
      "          3.0675e-02, -4.9008e-03,  6.3219e-03,  5.9004e-02,  1.0456e-01,\n",
      "         -7.6650e-02,  1.3653e-02,  4.6895e-02, -5.4288e-02, -6.2961e-02,\n",
      "         -2.9699e-02,  4.4727e-03, -5.8581e-03, -3.1419e-02, -7.8220e-02,\n",
      "         -1.0785e-01, -1.9613e-02,  9.0590e-02, -6.6856e-02,  2.0115e-02,\n",
      "         -6.2354e-02, -1.4399e-01, -8.5786e-03, -1.0864e-02, -5.0144e-02,\n",
      "         -4.5899e-02,  1.3648e-02, -9.4737e-03,  5.0169e-03,  3.8277e-03,\n",
      "          6.3802e-02,  1.0069e-02,  6.5904e-02, -1.7270e-02,  9.7700e-02,\n",
      "         -1.3377e-01, -3.4798e-02,  3.0803e-02,  2.8094e-02, -2.0061e-02,\n",
      "         -4.8794e-03,  2.4943e-02,  1.6788e-03, -1.9391e-02,  2.5417e-02,\n",
      "          3.3628e-02, -7.7890e-03, -6.7074e-02,  3.9670e-02, -4.2122e-02,\n",
      "         -1.9715e-02,  4.6097e-02, -8.6481e-03, -2.5914e-02, -6.8909e-02,\n",
      "         -6.3552e-03, -4.2326e-02,  9.3667e-02, -4.2146e-02,  1.0816e-01,\n",
      "         -5.3825e-03,  6.3210e-02, -5.7745e-02,  2.7067e-02, -9.8810e-02,\n",
      "          4.6031e-03, -3.9282e-02, -6.2432e-02,  5.8164e-02, -7.7707e-03,\n",
      "         -1.7581e-02, -5.9779e-02,  8.4083e-02, -6.4908e-02,  1.8828e-02,\n",
      "          7.7170e-02, -1.3525e-02, -3.4689e-02, -6.4393e-02,  4.3085e-02,\n",
      "         -7.2892e-02, -7.7396e-03, -5.7066e-02,  4.0335e-02,  2.2180e-02,\n",
      "          2.9761e-02, -2.5700e-02,  2.3454e-02,  1.9783e-02, -2.6593e-02,\n",
      "          6.7317e-03, -1.2079e-01, -4.6498e-02, -2.7217e-02, -6.5089e-02,\n",
      "         -4.3961e-03,  2.8977e-02,  1.2585e-02, -2.0944e-02, -4.9149e-02,\n",
      "         -1.0254e-01, -2.5747e-02, -8.8740e-03, -3.2357e-02,  4.6211e-02,\n",
      "          2.7787e-02,  5.7628e-02,  2.1727e-02,  1.1826e-02, -1.5701e-02,\n",
      "         -3.4918e-02, -7.3936e-02,  6.1697e-02, -1.5889e-02,  1.8378e-02,\n",
      "         -5.9270e-02,  4.4768e-02, -5.0589e-03, -4.4210e-02,  1.0207e-01,\n",
      "         -2.2921e-02, -7.7042e-03, -3.7090e-02, -6.3536e-02,  3.4075e-02,\n",
      "         -2.1850e-02, -7.7443e-02,  8.9009e-02, -1.0525e-02,  1.5868e-02,\n",
      "          5.8818e-03,  1.0644e-02,  1.6182e-02, -3.6165e-02, -5.2849e-02,\n",
      "         -5.5412e-02,  2.3345e-05,  4.9527e-02, -2.8230e-02,  4.5062e-02,\n",
      "         -1.9605e-02, -7.2666e-02,  7.0237e-02,  1.8447e-02,  5.5038e-02,\n",
      "          3.0259e-02, -9.2161e-02,  3.1429e-03, -2.8114e-02,  1.0543e-01,\n",
      "          1.1252e-02, -2.2985e-02,  3.8350e-02,  1.9111e-02, -2.7022e-02,\n",
      "         -6.0848e-02,  6.6679e-02,  2.1598e-02, -4.6724e-02,  4.1933e-02,\n",
      "          8.1479e-02, -3.7261e-03,  8.9085e-02, -1.1023e-02, -4.1973e-02,\n",
      "          6.5534e-02,  1.6036e-02,  7.9203e-03, -5.7406e-03, -1.1147e-02,\n",
      "          4.2320e-02, -1.2003e-02,  1.8850e-02,  7.5729e-02, -2.5406e-02,\n",
      "          2.4446e-02, -9.1866e-02,  6.8005e-02,  1.1529e-02, -2.9919e-02,\n",
      "         -1.9675e-03, -5.7360e-02, -5.3828e-02, -6.8321e-02,  8.3090e-02,\n",
      "         -1.0648e-02, -3.1393e-02, -4.1137e-02, -2.7714e-02, -4.0624e-02,\n",
      "          4.7527e-04,  4.0058e-02,  3.8248e-02, -7.0024e-02,  1.3412e-02,\n",
      "          1.3649e-03, -5.4082e-02,  5.4088e-03, -2.6059e-02, -9.9186e-02,\n",
      "         -1.1412e-02, -2.9674e-02,  2.7122e-03, -7.2497e-03, -6.9885e-02,\n",
      "          1.1960e-02, -2.6386e-02, -5.1567e-02, -1.0459e-01, -8.2228e-02,\n",
      "          6.5063e-03,  2.7130e-02,  1.4697e-01, -1.3727e-02,  8.4892e-02,\n",
      "         -2.2701e-02,  9.6172e-02,  3.2265e-02, -2.9329e-02,  4.6930e-02,\n",
      "         -9.5676e-02,  1.4791e-02,  3.2643e-03, -4.3987e-02, -1.0503e-01,\n",
      "         -8.6277e-02,  4.0118e-02, -2.1607e-03,  5.1974e-02,  8.0781e-02,\n",
      "         -1.1370e-01,  4.4314e-02,  5.7575e-02, -2.2285e-02,  3.8361e-02,\n",
      "          5.5354e-02, -5.7191e-02,  5.5814e-02,  4.9946e-02, -3.5202e-02,\n",
      "         -4.0019e-02, -8.2496e-02, -8.0496e-02,  2.8901e-03, -6.6314e-02,\n",
      "         -2.3149e-02, -7.2880e-02,  9.0480e-02, -4.0479e-02, -4.4645e-02,\n",
      "         -8.4982e-02, -2.5585e-02, -2.3579e-02,  3.6415e-02,  3.0851e-02,\n",
      "         -2.5911e-02,  3.9612e-03,  6.0545e-03,  9.9170e-02,  8.6042e-02,\n",
      "         -1.1891e-02, -5.3159e-03, -5.9786e-02,  4.9800e-02,  4.8337e-02,\n",
      "          6.9445e-02, -1.3233e-02,  1.4150e-02,  1.1703e-01, -4.2918e-02,\n",
      "          4.2794e-02,  1.4390e-02, -1.4115e-02, -5.1769e-02, -3.5101e-02,\n",
      "         -4.9533e-02, -1.0254e-01,  8.1154e-03, -9.6838e-03, -6.1610e-02,\n",
      "         -2.2140e-03, -9.0312e-02,  3.7432e-02,  7.2880e-02, -2.6510e-02,\n",
      "         -4.5852e-02,  7.5793e-02,  4.1642e-02,  5.2736e-02, -5.8041e-03,\n",
      "          2.6931e-02,  3.5350e-02,  1.0404e-02,  3.0691e-02, -7.2848e-02,\n",
      "         -8.4942e-02,  2.5828e-02,  3.7123e-02, -1.2427e-02,  4.6510e-02,\n",
      "          4.5672e-02, -1.2066e-02,  4.3396e-02, -4.2178e-02,  7.3787e-02,\n",
      "          3.0685e-02,  5.9207e-02,  4.2189e-02,  2.9767e-03, -4.7104e-02,\n",
      "          5.4212e-03, -3.7196e-02,  7.9858e-02,  5.4636e-02,  4.2815e-03,\n",
      "         -3.5258e-02, -6.1439e-02, -8.9873e-02, -6.8822e-02,  8.2628e-02,\n",
      "          1.0558e-02,  1.5146e-03, -4.9262e-03,  6.3471e-02, -3.0742e-02,\n",
      "          6.2794e-02,  1.2686e-01, -5.7911e-02, -5.6159e-02, -6.2045e-02,\n",
      "         -2.3283e-02,  2.2030e-02,  1.7414e-02]], grad_fn=<TanhBackward0>), hidden_states=None, attentions=None)\n"
     ]
    }
   ],
   "source": [
    "print(sample_output)"
   ]
  },
  {
   "cell_type": "code",
   "execution_count": 52,
   "metadata": {
    "colab": {
     "base_uri": "https://localhost:8080/"
    },
    "executionInfo": {
     "elapsed": 10,
     "status": "ok",
     "timestamp": 1642838465901,
     "user": {
      "displayName": "Faerie Mattins",
      "photoUrl": "https://lh3.googleusercontent.com/a-/AOh14GioC2l5h-WyYv75UEkACBUNdG2iNVemsmA1kWM_HA=s64",
      "userId": "14162521248288859983"
     },
     "user_tz": -330
    },
    "id": "hmz0ugkzJF4a",
    "outputId": "c2edbde2-4378-472f-cd02-e765c6a6cc49"
   },
   "outputs": [
    {
     "name": "stdout",
     "output_type": "stream",
     "text": [
      "(1, 768)\n"
     ]
    }
   ],
   "source": [
    "print(sample_output.pooler_output.cpu().detach().numpy().shape)"
   ]
  },
  {
   "cell_type": "code",
   "execution_count": 53,
   "metadata": {
    "executionInfo": {
     "elapsed": 354,
     "status": "ok",
     "timestamp": 1642838469044,
     "user": {
      "displayName": "Faerie Mattins",
      "photoUrl": "https://lh3.googleusercontent.com/a-/AOh14GioC2l5h-WyYv75UEkACBUNdG2iNVemsmA1kWM_HA=s64",
      "userId": "14162521248288859983"
     },
     "user_tz": -330
    },
    "id": "uu5rNQCnJHhW"
   },
   "outputs": [],
   "source": [
    "# Tokenizing Test Input Data\n",
    "\n",
    "input = []\n",
    "\n",
    "for i in text_test:\n",
    "    tokenized_input = tokenizer(\n",
    "        i,\n",
    "        padding=True,\n",
    "        truncation=False,\n",
    "        return_tensors='pt'\n",
    "    )\n",
    "    input.append(tokenized_input)"
   ]
  },
  {
   "cell_type": "code",
   "execution_count": 54,
   "metadata": {
    "colab": {
     "base_uri": "https://localhost:8080/"
    },
    "executionInfo": {
     "elapsed": 128448,
     "status": "ok",
     "timestamp": 1642838603529,
     "user": {
      "displayName": "Faerie Mattins",
      "photoUrl": "https://lh3.googleusercontent.com/a-/AOh14GioC2l5h-WyYv75UEkACBUNdG2iNVemsmA1kWM_HA=s64",
      "userId": "14162521248288859983"
     },
     "user_tz": -330
    },
    "id": "4uGocE2BJMcp",
    "outputId": "2346cea0-ab4b-4ff7-afa8-262223c0b177"
   },
   "outputs": [
    {
     "name": "stdout",
     "output_type": "stream",
     "text": [
      "./IndicBert-Model1-Embedded-TestData/output1.pickle done\n",
      "./IndicBert-Model1-Embedded-TestData/output2.pickle done\n",
      "./IndicBert-Model1-Embedded-TestData/output3.pickle done\n",
      "./IndicBert-Model1-Embedded-TestData/output4.pickle done\n",
      "./IndicBert-Model1-Embedded-TestData/output5.pickle done\n"
     ]
    }
   ],
   "source": [
    "# Directory path\n",
    "output_dir = \"./IndicBert-Model1-Embedded-TestData/\"\n",
    "os.makedirs(output_dir, exist_ok=True)\n",
    "\n",
    "# Embedding the Test Input Data\n",
    "\n",
    "output = []\n",
    "\n",
    "j = 1\n",
    "\n",
    "for i in range(len(input)):\n",
    "    \n",
    "    model_output = model(**input[i])\n",
    "    model_output = model_output.pooler_output.cpu().detach().numpy()\n",
    "    output.append(model_output)\n",
    "    \n",
    "    # Saving Embedded Test Input Data to Disk\n",
    "\n",
    "    if ((i + 1) % 200) == 0:\n",
    "        \n",
    "        file_name = \"./IndicBert-Model1-Embedded-TestData/output\" + str(j) + \".pickle\"\n",
    "        \n",
    "        with open(file_name, \"wb\") as fp:   \n",
    "            # Pickling\n",
    "            pickle.dump(output, fp)\n",
    "        \n",
    "        print(file_name + \" done\")\n",
    "        output = []\n",
    "        j += 1\n",
    "        \n",
    "file_name = \"./IndicBert-Model1-Embedded-TestData/output\" + str(j) + \".pickle\"\n",
    "\n",
    "with open(file_name, \"wb\") as fp:   \n",
    "    # Pickling\n",
    "    pickle.dump(output, fp)\n",
    "\n",
    "print(file_name + \" done\")\n",
    "output = []"
   ]
  },
  {
   "cell_type": "code",
   "execution_count": 55,
   "metadata": {
    "colab": {
     "base_uri": "https://localhost:8080/"
    },
    "executionInfo": {
     "elapsed": 131,
     "status": "ok",
     "timestamp": 1642838603538,
     "user": {
      "displayName": "Faerie Mattins",
      "photoUrl": "https://lh3.googleusercontent.com/a-/AOh14GioC2l5h-WyYv75UEkACBUNdG2iNVemsmA1kWM_HA=s64",
      "userId": "14162521248288859983"
     },
     "user_tz": -330
    },
    "id": "autP-jUzKmLm",
    "outputId": "98813b2d-8320-4985-8e29-b7003ab204a0"
   },
   "outputs": [
    {
     "name": "stdout",
     "output_type": "stream",
     "text": [
      "./IndicBert-Model1-Embedded-TestData/output1.pickle done\n",
      "./IndicBert-Model1-Embedded-TestData/output2.pickle done\n",
      "./IndicBert-Model1-Embedded-TestData/output3.pickle done\n",
      "./IndicBert-Model1-Embedded-TestData/output4.pickle done\n",
      "./IndicBert-Model1-Embedded-TestData/output5.pickle done\n"
     ]
    }
   ],
   "source": [
    "# Loading Embedded Input Test Data from Disk\n",
    "\n",
    "output = []\n",
    "\n",
    "for i in range(5):\n",
    "    file_name = \"./IndicBert-Model1-Embedded-TestData/output\" + str(i + 1) + \".pickle\"\n",
    "    with open(file_name, \"rb\") as fp:   #Pickling\n",
    "        file_output = pickle.load(fp)\n",
    "        for x in file_output:\n",
    "            output.append(x)\n",
    "    print(file_name + \" done\")\n",
    "\n",
    "X_test = output\n",
    "output = []"
   ]
  },
  {
   "cell_type": "code",
   "execution_count": 56,
   "metadata": {
    "colab": {
     "base_uri": "https://localhost:8080/"
    },
    "executionInfo": {
     "elapsed": 100,
     "status": "ok",
     "timestamp": 1642838603540,
     "user": {
      "displayName": "Faerie Mattins",
      "photoUrl": "https://lh3.googleusercontent.com/a-/AOh14GioC2l5h-WyYv75UEkACBUNdG2iNVemsmA1kWM_HA=s64",
      "userId": "14162521248288859983"
     },
     "user_tz": -330
    },
    "id": "iCTb8MZrNBHJ",
    "outputId": "a1c906ec-fadb-40de-f0b6-2074a0b685fa"
   },
   "outputs": [
    {
     "data": {
      "text/plain": [
       "(940, 1, 768)"
      ]
     },
     "execution_count": 56,
     "metadata": {},
     "output_type": "execute_result"
    }
   ],
   "source": [
    "X_test = np.array(X_test)\n",
    "X_test.shape"
   ]
  },
  {
   "cell_type": "code",
   "execution_count": 57,
   "metadata": {
    "colab": {
     "base_uri": "https://localhost:8080/"
    },
    "executionInfo": {
     "elapsed": 94,
     "status": "ok",
     "timestamp": 1642838603542,
     "user": {
      "displayName": "Faerie Mattins",
      "photoUrl": "https://lh3.googleusercontent.com/a-/AOh14GioC2l5h-WyYv75UEkACBUNdG2iNVemsmA1kWM_HA=s64",
      "userId": "14162521248288859983"
     },
     "user_tz": -330
    },
    "id": "ElFbLnhCNEw_",
    "outputId": "bad68e90-aaeb-4cd9-8c1c-fd1ea3116bf3"
   },
   "outputs": [
    {
     "data": {
      "text/plain": [
       "(940, 768)"
      ]
     },
     "execution_count": 57,
     "metadata": {},
     "output_type": "execute_result"
    }
   ],
   "source": [
    "X_test = X_test.reshape(-1, 768)\n",
    "X_test.shape"
   ]
  },
  {
   "cell_type": "markdown",
   "metadata": {
    "id": "wNDrYlgMNMCG"
   },
   "source": [
    "## **Getting Predictions**"
   ]
  },
  {
   "cell_type": "code",
   "execution_count": 58,
   "metadata": {
    "executionInfo": {
     "elapsed": 917,
     "status": "ok",
     "timestamp": 1642838604405,
     "user": {
      "displayName": "Faerie Mattins",
      "photoUrl": "https://lh3.googleusercontent.com/a-/AOh14GioC2l5h-WyYv75UEkACBUNdG2iNVemsmA1kWM_HA=s64",
      "userId": "14162521248288859983"
     },
     "user_tz": -330
    },
    "id": "SGEem_mrNKcK"
   },
   "outputs": [],
   "source": [
    "# Logistic Regression\n",
    "lr_test_pred = lr.predict(X_test)\n",
    "\n",
    "# Naive Bayes\n",
    "nb_test_pred = nb.predict(X_test)"
   ]
  },
  {
   "cell_type": "markdown",
   "metadata": {
    "id": "LDn6XGBxNgiQ"
   },
   "source": [
    "## **Evaluating the Predictions**"
   ]
  },
  {
   "cell_type": "code",
   "execution_count": 59,
   "metadata": {
    "executionInfo": {
     "elapsed": 38,
     "status": "ok",
     "timestamp": 1642838604408,
     "user": {
      "displayName": "Faerie Mattins",
      "photoUrl": "https://lh3.googleusercontent.com/a-/AOh14GioC2l5h-WyYv75UEkACBUNdG2iNVemsmA1kWM_HA=s64",
      "userId": "14162521248288859983"
     },
     "user_tz": -330
    },
    "id": "E6Z9uog3Nele"
   },
   "outputs": [],
   "source": [
    "dataframe_eval = pd.read_csv(\n",
    "    \"tanglish_test_labels.csv\"\n",
    ")"
   ]
  },
  {
   "cell_type": "code",
   "execution_count": 60,
   "metadata": {
    "executionInfo": {
     "elapsed": 36,
     "status": "ok",
     "timestamp": 1642838604408,
     "user": {
      "displayName": "Faerie Mattins",
      "photoUrl": "https://lh3.googleusercontent.com/a-/AOh14GioC2l5h-WyYv75UEkACBUNdG2iNVemsmA1kWM_HA=s64",
      "userId": "14162521248288859983"
     },
     "user_tz": -330
    },
    "id": "QQKEuIXSNk65"
   },
   "outputs": [],
   "source": [
    "y_test = dataframe_eval['category']\n",
    "y_test = LabelEncoder().fit_transform(y_test)"
   ]
  },
  {
   "cell_type": "code",
   "execution_count": 61,
   "metadata": {
    "colab": {
     "base_uri": "https://localhost:8080/"
    },
    "executionInfo": {
     "elapsed": 36,
     "status": "ok",
     "timestamp": 1642838604409,
     "user": {
      "displayName": "Faerie Mattins",
      "photoUrl": "https://lh3.googleusercontent.com/a-/AOh14GioC2l5h-WyYv75UEkACBUNdG2iNVemsmA1kWM_HA=s64",
      "userId": "14162521248288859983"
     },
     "user_tz": -330
    },
    "id": "Q80-1PAMNmn9",
    "outputId": "2fe65232-36b0-481c-eded-16f3ac4cd0e6"
   },
   "outputs": [
    {
     "name": "stdout",
     "output_type": "stream",
     "text": [
      "Logistic Regression\n",
      "              precision    recall  f1-score   support\n",
      "\n",
      "           0       1.00      0.00      0.00       465\n",
      "           1       0.51      1.00      0.67       475\n",
      "\n",
      "    accuracy                           0.51       940\n",
      "   macro avg       0.75      0.50      0.34       940\n",
      "weighted avg       0.75      0.51      0.34       940\n",
      "\n"
     ]
    }
   ],
   "source": [
    "print('Logistic Regression')\n",
    "print(classification_report(y_test, lr_test_pred,zero_division=1))"
   ]
  },
  {
   "cell_type": "code",
   "execution_count": 63,
   "metadata": {
    "colab": {
     "base_uri": "https://localhost:8080/"
    },
    "executionInfo": {
     "elapsed": 28,
     "status": "ok",
     "timestamp": 1642838604409,
     "user": {
      "displayName": "Faerie Mattins",
      "photoUrl": "https://lh3.googleusercontent.com/a-/AOh14GioC2l5h-WyYv75UEkACBUNdG2iNVemsmA1kWM_HA=s64",
      "userId": "14162521248288859983"
     },
     "user_tz": -330
    },
    "id": "gdpoHKmFNruS",
    "outputId": "f29c94b9-25d4-4377-e3d2-cd204de135b3"
   },
   "outputs": [
    {
     "name": "stdout",
     "output_type": "stream",
     "text": [
      "Naive Bayes\n",
      "              precision    recall  f1-score   support\n",
      "\n",
      "           0       1.00      0.00      0.00       465\n",
      "           1       0.46      0.11      0.18       475\n",
      "           2       0.00      1.00      0.00         0\n",
      "\n",
      "    accuracy                           0.06       940\n",
      "   macro avg       0.49      0.37      0.06       940\n",
      "weighted avg       0.73      0.06      0.09       940\n",
      "\n"
     ]
    }
   ],
   "source": [
    "print('Naive Bayes')\n",
    "print(classification_report(y_test, nb_test_pred,zero_division=1))"
   ]
  },
  {
   "cell_type": "markdown",
   "metadata": {
    "id": "4LwXIdR1N_00"
   },
   "source": [
    "## **Saving the Predictions**"
   ]
  },
  {
   "cell_type": "code",
   "execution_count": 64,
   "metadata": {
    "colab": {
     "base_uri": "https://localhost:8080/",
     "height": 422
    },
    "executionInfo": {
     "elapsed": 45,
     "status": "ok",
     "timestamp": 1636603459010,
     "user": {
      "displayName": "Srivarshan 19BAI1078",
      "photoUrl": "https://lh3.googleusercontent.com/a/default-user=s64",
      "userId": "03718411517360748676"
     },
     "user_tz": -330
    },
    "id": "OQmTRFCyN6M-",
    "outputId": "02fce950-a37b-404c-a8cf-080879c2bfed"
   },
   "outputs": [
    {
     "data": {
      "text/html": [
       "<div>\n",
       "<style scoped>\n",
       "    .dataframe tbody tr th:only-of-type {\n",
       "        vertical-align: middle;\n",
       "    }\n",
       "\n",
       "    .dataframe tbody tr th {\n",
       "        vertical-align: top;\n",
       "    }\n",
       "\n",
       "    .dataframe thead th {\n",
       "        text-align: right;\n",
       "    }\n",
       "</style>\n",
       "<table border=\"1\" class=\"dataframe\">\n",
       "  <thead>\n",
       "    <tr style=\"text-align: right;\">\n",
       "      <th></th>\n",
       "      <th>id</th>\n",
       "      <th>text</th>\n",
       "      <th>category</th>\n",
       "    </tr>\n",
       "  </thead>\n",
       "  <tbody>\n",
       "    <tr>\n",
       "      <th>0</th>\n",
       "      <td>TA_TW15946</td>\n",
       "      <td>Take it this thevidiya Kandipa indha page admi...</td>\n",
       "      <td>NOT</td>\n",
       "    </tr>\n",
       "    <tr>\n",
       "      <th>1</th>\n",
       "      <td>TA_TW10175</td>\n",
       "      <td>enga veetla itha nadakum Athum oru varushama t...</td>\n",
       "      <td>NOT</td>\n",
       "    </tr>\n",
       "    <tr>\n",
       "      <th>2</th>\n",
       "      <td>TA_TW15947</td>\n",
       "      <td>Indha Sallli Punda, Dummy Pundalam Orama Iruka...</td>\n",
       "      <td>NOT</td>\n",
       "    </tr>\n",
       "    <tr>\n",
       "      <th>3</th>\n",
       "      <td>TA_TW15174</td>\n",
       "      <td>Juriya poola tier 1 la umburan tha kulla punda...</td>\n",
       "      <td>NOT</td>\n",
       "    </tr>\n",
       "    <tr>\n",
       "      <th>4</th>\n",
       "      <td>TA_TW15182</td>\n",
       "      <td>Kullans lam umba therila Loosu kuthi maari umb...</td>\n",
       "      <td>NOT</td>\n",
       "    </tr>\n",
       "    <tr>\n",
       "      <th>...</th>\n",
       "      <td>...</td>\n",
       "      <td>...</td>\n",
       "      <td>...</td>\n",
       "    </tr>\n",
       "    <tr>\n",
       "      <th>935</th>\n",
       "      <td>TA_TW15928</td>\n",
       "      <td>Woman with a bhindi picture on a logo promotes...</td>\n",
       "      <td>NOT</td>\n",
       "    </tr>\n",
       "    <tr>\n",
       "      <th>936</th>\n",
       "      <td>TA_TW10014</td>\n",
       "      <td>Worst ra Vara vara Namma Society kevalama poit...</td>\n",
       "      <td>NOT</td>\n",
       "    </tr>\n",
       "    <tr>\n",
       "      <th>937</th>\n",
       "      <td>TA_TW10134</td>\n",
       "      <td>Yeallarukum reply pandringa namma #TAG RakidaR...</td>\n",
       "      <td>NOT</td>\n",
       "    </tr>\n",
       "    <tr>\n",
       "      <th>938</th>\n",
       "      <td>TA_TW10418</td>\n",
       "      <td>Yeva yeva valkaiyelam flashlight adicha maari ...</td>\n",
       "      <td>NOT</td>\n",
       "    </tr>\n",
       "    <tr>\n",
       "      <th>939</th>\n",
       "      <td>TA_TW13798</td>\n",
       "      <td>Deiii udhay sunniya oomburathuku 200 pothumad...</td>\n",
       "      <td>NOT</td>\n",
       "    </tr>\n",
       "  </tbody>\n",
       "</table>\n",
       "<p>940 rows × 3 columns</p>\n",
       "</div>"
      ],
      "text/plain": [
       "             id                                               text category\n",
       "0    TA_TW15946  Take it this thevidiya Kandipa indha page admi...      NOT\n",
       "1    TA_TW10175  enga veetla itha nadakum Athum oru varushama t...      NOT\n",
       "2    TA_TW15947  Indha Sallli Punda, Dummy Pundalam Orama Iruka...      NOT\n",
       "3    TA_TW15174  Juriya poola tier 1 la umburan tha kulla punda...      NOT\n",
       "4    TA_TW15182  Kullans lam umba therila Loosu kuthi maari umb...      NOT\n",
       "..          ...                                                ...      ...\n",
       "935  TA_TW15928  Woman with a bhindi picture on a logo promotes...      NOT\n",
       "936  TA_TW10014  Worst ra Vara vara Namma Society kevalama poit...      NOT\n",
       "937  TA_TW10134  Yeallarukum reply pandringa namma #TAG RakidaR...      NOT\n",
       "938  TA_TW10418  Yeva yeva valkaiyelam flashlight adicha maari ...      NOT\n",
       "939  TA_TW13798   Deiii udhay sunniya oomburathuku 200 pothumad...      NOT\n",
       "\n",
       "[940 rows x 3 columns]"
      ]
     },
     "execution_count": 64,
     "metadata": {},
     "output_type": "execute_result"
    }
   ],
   "source": [
    "# Logistic Regression\n",
    "\n",
    "predictions = le.inverse_transform(lr_test_pred)\n",
    "\n",
    "dataframe_test_lr = {\n",
    "    'id': dataframe_test['id'],\n",
    "    'text': dataframe_test['text'],\n",
    "    'category': predictions\n",
    "}\n",
    "\n",
    "dataframe_test_lr = pd.DataFrame(dataframe_test_lr)\n",
    "dataframe_test_lr.to_csv(\"Output/IndicBert-Model1-LogisticRegression.csv\")\n",
    "dataframe_test_lr"
   ]
  },
  {
   "cell_type": "code",
   "execution_count": 65,
   "metadata": {
    "colab": {
     "base_uri": "https://localhost:8080/",
     "height": 422
    },
    "executionInfo": {
     "elapsed": 44,
     "status": "ok",
     "timestamp": 1636603459014,
     "user": {
      "displayName": "Srivarshan 19BAI1078",
      "photoUrl": "https://lh3.googleusercontent.com/a/default-user=s64",
      "userId": "03718411517360748676"
     },
     "user_tz": -330
    },
    "id": "yBatwZUvOMxG",
    "outputId": "57f7b5f8-d310-4313-bbbd-aeea49d4b1be"
   },
   "outputs": [
    {
     "data": {
      "text/html": [
       "<div>\n",
       "<style scoped>\n",
       "    .dataframe tbody tr th:only-of-type {\n",
       "        vertical-align: middle;\n",
       "    }\n",
       "\n",
       "    .dataframe tbody tr th {\n",
       "        vertical-align: top;\n",
       "    }\n",
       "\n",
       "    .dataframe thead th {\n",
       "        text-align: right;\n",
       "    }\n",
       "</style>\n",
       "<table border=\"1\" class=\"dataframe\">\n",
       "  <thead>\n",
       "    <tr style=\"text-align: right;\">\n",
       "      <th></th>\n",
       "      <th>id</th>\n",
       "      <th>text</th>\n",
       "      <th>category</th>\n",
       "    </tr>\n",
       "  </thead>\n",
       "  <tbody>\n",
       "    <tr>\n",
       "      <th>0</th>\n",
       "      <td>TA_TW15946</td>\n",
       "      <td>Take it this thevidiya Kandipa indha page admi...</td>\n",
       "      <td>OFF</td>\n",
       "    </tr>\n",
       "    <tr>\n",
       "      <th>1</th>\n",
       "      <td>TA_TW10175</td>\n",
       "      <td>enga veetla itha nadakum Athum oru varushama t...</td>\n",
       "      <td>OFF</td>\n",
       "    </tr>\n",
       "    <tr>\n",
       "      <th>2</th>\n",
       "      <td>TA_TW15947</td>\n",
       "      <td>Indha Sallli Punda, Dummy Pundalam Orama Iruka...</td>\n",
       "      <td>OFF</td>\n",
       "    </tr>\n",
       "    <tr>\n",
       "      <th>3</th>\n",
       "      <td>TA_TW15174</td>\n",
       "      <td>Juriya poola tier 1 la umburan tha kulla punda...</td>\n",
       "      <td>NOT</td>\n",
       "    </tr>\n",
       "    <tr>\n",
       "      <th>4</th>\n",
       "      <td>TA_TW15182</td>\n",
       "      <td>Kullans lam umba therila Loosu kuthi maari umb...</td>\n",
       "      <td>OFF</td>\n",
       "    </tr>\n",
       "    <tr>\n",
       "      <th>...</th>\n",
       "      <td>...</td>\n",
       "      <td>...</td>\n",
       "      <td>...</td>\n",
       "    </tr>\n",
       "    <tr>\n",
       "      <th>935</th>\n",
       "      <td>TA_TW15928</td>\n",
       "      <td>Woman with a bhindi picture on a logo promotes...</td>\n",
       "      <td>NOT</td>\n",
       "    </tr>\n",
       "    <tr>\n",
       "      <th>936</th>\n",
       "      <td>TA_TW10014</td>\n",
       "      <td>Worst ra Vara vara Namma Society kevalama poit...</td>\n",
       "      <td>OFF</td>\n",
       "    </tr>\n",
       "    <tr>\n",
       "      <th>937</th>\n",
       "      <td>TA_TW10134</td>\n",
       "      <td>Yeallarukum reply pandringa namma #TAG RakidaR...</td>\n",
       "      <td>OFF</td>\n",
       "    </tr>\n",
       "    <tr>\n",
       "      <th>938</th>\n",
       "      <td>TA_TW10418</td>\n",
       "      <td>Yeva yeva valkaiyelam flashlight adicha maari ...</td>\n",
       "      <td>OFF</td>\n",
       "    </tr>\n",
       "    <tr>\n",
       "      <th>939</th>\n",
       "      <td>TA_TW13798</td>\n",
       "      <td>Deiii udhay sunniya oomburathuku 200 pothumad...</td>\n",
       "      <td>OFF</td>\n",
       "    </tr>\n",
       "  </tbody>\n",
       "</table>\n",
       "<p>940 rows × 3 columns</p>\n",
       "</div>"
      ],
      "text/plain": [
       "             id                                               text category\n",
       "0    TA_TW15946  Take it this thevidiya Kandipa indha page admi...      OFF\n",
       "1    TA_TW10175  enga veetla itha nadakum Athum oru varushama t...      OFF\n",
       "2    TA_TW15947  Indha Sallli Punda, Dummy Pundalam Orama Iruka...      OFF\n",
       "3    TA_TW15174  Juriya poola tier 1 la umburan tha kulla punda...      NOT\n",
       "4    TA_TW15182  Kullans lam umba therila Loosu kuthi maari umb...      OFF\n",
       "..          ...                                                ...      ...\n",
       "935  TA_TW15928  Woman with a bhindi picture on a logo promotes...      NOT\n",
       "936  TA_TW10014  Worst ra Vara vara Namma Society kevalama poit...      OFF\n",
       "937  TA_TW10134  Yeallarukum reply pandringa namma #TAG RakidaR...      OFF\n",
       "938  TA_TW10418  Yeva yeva valkaiyelam flashlight adicha maari ...      OFF\n",
       "939  TA_TW13798   Deiii udhay sunniya oomburathuku 200 pothumad...      OFF\n",
       "\n",
       "[940 rows x 3 columns]"
      ]
     },
     "execution_count": 65,
     "metadata": {},
     "output_type": "execute_result"
    }
   ],
   "source": [
    "# Naive Bayes\n",
    "\n",
    "predictions = le.inverse_transform(nb_test_pred)\n",
    "\n",
    "dataframe_test_nb = {\n",
    "    'id': dataframe_test['id'],\n",
    "    'text': dataframe_test['text'],\n",
    "    'category': predictions\n",
    "}\n",
    "\n",
    "dataframe_test_nb = pd.DataFrame(dataframe_test_nb)\n",
    "dataframe_test_nb.to_csv(\"Output/IndicBert-Model1-NaiveBayes.csv\")\n",
    "dataframe_test_nb"
   ]
  }
 ],
 "metadata": {
  "colab": {
   "collapsed_sections": [],
   "name": "IndicBert-Stopword-NOStem.ipynb",
   "provenance": []
  },
  "kernelspec": {
   "display_name": "Python 3",
   "language": "python",
   "name": "python3"
  },
  "language_info": {
   "codemirror_mode": {
    "name": "ipython",
    "version": 3
   },
   "file_extension": ".py",
   "mimetype": "text/x-python",
   "name": "python",
   "nbconvert_exporter": "python",
   "pygments_lexer": "ipython3",
   "version": "3.13.0"
  },
  "widgets": {
   "application/vnd.jupyter.widget-state+json": {
    "08a199bf50064e93981b8ac9772df565": {
     "model_module": "@jupyter-widgets/controls",
     "model_module_version": "1.5.0",
     "model_name": "DescriptionStyleModel",
     "state": {
      "_model_module": "@jupyter-widgets/controls",
      "_model_module_version": "1.5.0",
      "_model_name": "DescriptionStyleModel",
      "_view_count": null,
      "_view_module": "@jupyter-widgets/base",
      "_view_module_version": "1.2.0",
      "_view_name": "StyleView",
      "description_width": ""
     }
    },
    "0f17647afb3844c69689dcf7e0dcb11c": {
     "model_module": "@jupyter-widgets/controls",
     "model_module_version": "1.5.0",
     "model_name": "ProgressStyleModel",
     "state": {
      "_model_module": "@jupyter-widgets/controls",
      "_model_module_version": "1.5.0",
      "_model_name": "ProgressStyleModel",
      "_view_count": null,
      "_view_module": "@jupyter-widgets/base",
      "_view_module_version": "1.2.0",
      "_view_name": "StyleView",
      "bar_color": null,
      "description_width": ""
     }
    },
    "0f2e74a52e7844e3992e5ed270ada366": {
     "model_module": "@jupyter-widgets/base",
     "model_module_version": "1.2.0",
     "model_name": "LayoutModel",
     "state": {
      "_model_module": "@jupyter-widgets/base",
      "_model_module_version": "1.2.0",
      "_model_name": "LayoutModel",
      "_view_count": null,
      "_view_module": "@jupyter-widgets/base",
      "_view_module_version": "1.2.0",
      "_view_name": "LayoutView",
      "align_content": null,
      "align_items": null,
      "align_self": null,
      "border": null,
      "bottom": null,
      "display": null,
      "flex": null,
      "flex_flow": null,
      "grid_area": null,
      "grid_auto_columns": null,
      "grid_auto_flow": null,
      "grid_auto_rows": null,
      "grid_column": null,
      "grid_gap": null,
      "grid_row": null,
      "grid_template_areas": null,
      "grid_template_columns": null,
      "grid_template_rows": null,
      "height": null,
      "justify_content": null,
      "justify_items": null,
      "left": null,
      "margin": null,
      "max_height": null,
      "max_width": null,
      "min_height": null,
      "min_width": null,
      "object_fit": null,
      "object_position": null,
      "order": null,
      "overflow": null,
      "overflow_x": null,
      "overflow_y": null,
      "padding": null,
      "right": null,
      "top": null,
      "visibility": null,
      "width": null
     }
    },
    "2bea2b520e0b4d35aec17a94dd164288": {
     "model_module": "@jupyter-widgets/base",
     "model_module_version": "1.2.0",
     "model_name": "LayoutModel",
     "state": {
      "_model_module": "@jupyter-widgets/base",
      "_model_module_version": "1.2.0",
      "_model_name": "LayoutModel",
      "_view_count": null,
      "_view_module": "@jupyter-widgets/base",
      "_view_module_version": "1.2.0",
      "_view_name": "LayoutView",
      "align_content": null,
      "align_items": null,
      "align_self": null,
      "border": null,
      "bottom": null,
      "display": null,
      "flex": null,
      "flex_flow": null,
      "grid_area": null,
      "grid_auto_columns": null,
      "grid_auto_flow": null,
      "grid_auto_rows": null,
      "grid_column": null,
      "grid_gap": null,
      "grid_row": null,
      "grid_template_areas": null,
      "grid_template_columns": null,
      "grid_template_rows": null,
      "height": null,
      "justify_content": null,
      "justify_items": null,
      "left": null,
      "margin": null,
      "max_height": null,
      "max_width": null,
      "min_height": null,
      "min_width": null,
      "object_fit": null,
      "object_position": null,
      "order": null,
      "overflow": null,
      "overflow_x": null,
      "overflow_y": null,
      "padding": null,
      "right": null,
      "top": null,
      "visibility": null,
      "width": null
     }
    },
    "316e3292896541f09932cf10b83ed83f": {
     "model_module": "@jupyter-widgets/base",
     "model_module_version": "1.2.0",
     "model_name": "LayoutModel",
     "state": {
      "_model_module": "@jupyter-widgets/base",
      "_model_module_version": "1.2.0",
      "_model_name": "LayoutModel",
      "_view_count": null,
      "_view_module": "@jupyter-widgets/base",
      "_view_module_version": "1.2.0",
      "_view_name": "LayoutView",
      "align_content": null,
      "align_items": null,
      "align_self": null,
      "border": null,
      "bottom": null,
      "display": null,
      "flex": null,
      "flex_flow": null,
      "grid_area": null,
      "grid_auto_columns": null,
      "grid_auto_flow": null,
      "grid_auto_rows": null,
      "grid_column": null,
      "grid_gap": null,
      "grid_row": null,
      "grid_template_areas": null,
      "grid_template_columns": null,
      "grid_template_rows": null,
      "height": null,
      "justify_content": null,
      "justify_items": null,
      "left": null,
      "margin": null,
      "max_height": null,
      "max_width": null,
      "min_height": null,
      "min_width": null,
      "object_fit": null,
      "object_position": null,
      "order": null,
      "overflow": null,
      "overflow_x": null,
      "overflow_y": null,
      "padding": null,
      "right": null,
      "top": null,
      "visibility": null,
      "width": null
     }
    },
    "4d4663b1a98641b0a77bfae459742056": {
     "model_module": "@jupyter-widgets/base",
     "model_module_version": "1.2.0",
     "model_name": "LayoutModel",
     "state": {
      "_model_module": "@jupyter-widgets/base",
      "_model_module_version": "1.2.0",
      "_model_name": "LayoutModel",
      "_view_count": null,
      "_view_module": "@jupyter-widgets/base",
      "_view_module_version": "1.2.0",
      "_view_name": "LayoutView",
      "align_content": null,
      "align_items": null,
      "align_self": null,
      "border": null,
      "bottom": null,
      "display": null,
      "flex": null,
      "flex_flow": null,
      "grid_area": null,
      "grid_auto_columns": null,
      "grid_auto_flow": null,
      "grid_auto_rows": null,
      "grid_column": null,
      "grid_gap": null,
      "grid_row": null,
      "grid_template_areas": null,
      "grid_template_columns": null,
      "grid_template_rows": null,
      "height": null,
      "justify_content": null,
      "justify_items": null,
      "left": null,
      "margin": null,
      "max_height": null,
      "max_width": null,
      "min_height": null,
      "min_width": null,
      "object_fit": null,
      "object_position": null,
      "order": null,
      "overflow": null,
      "overflow_x": null,
      "overflow_y": null,
      "padding": null,
      "right": null,
      "top": null,
      "visibility": null,
      "width": null
     }
    },
    "58be73ce9e4b45579257e133b9fd564e": {
     "model_module": "@jupyter-widgets/controls",
     "model_module_version": "1.5.0",
     "model_name": "ProgressStyleModel",
     "state": {
      "_model_module": "@jupyter-widgets/controls",
      "_model_module_version": "1.5.0",
      "_model_name": "ProgressStyleModel",
      "_view_count": null,
      "_view_module": "@jupyter-widgets/base",
      "_view_module_version": "1.2.0",
      "_view_name": "StyleView",
      "bar_color": null,
      "description_width": ""
     }
    },
    "59b6fc6f65b54b9bb107936dc6452138": {
     "model_module": "@jupyter-widgets/base",
     "model_module_version": "1.2.0",
     "model_name": "LayoutModel",
     "state": {
      "_model_module": "@jupyter-widgets/base",
      "_model_module_version": "1.2.0",
      "_model_name": "LayoutModel",
      "_view_count": null,
      "_view_module": "@jupyter-widgets/base",
      "_view_module_version": "1.2.0",
      "_view_name": "LayoutView",
      "align_content": null,
      "align_items": null,
      "align_self": null,
      "border": null,
      "bottom": null,
      "display": null,
      "flex": null,
      "flex_flow": null,
      "grid_area": null,
      "grid_auto_columns": null,
      "grid_auto_flow": null,
      "grid_auto_rows": null,
      "grid_column": null,
      "grid_gap": null,
      "grid_row": null,
      "grid_template_areas": null,
      "grid_template_columns": null,
      "grid_template_rows": null,
      "height": null,
      "justify_content": null,
      "justify_items": null,
      "left": null,
      "margin": null,
      "max_height": null,
      "max_width": null,
      "min_height": null,
      "min_width": null,
      "object_fit": null,
      "object_position": null,
      "order": null,
      "overflow": null,
      "overflow_x": null,
      "overflow_y": null,
      "padding": null,
      "right": null,
      "top": null,
      "visibility": null,
      "width": null
     }
    },
    "64c19cbe702e4194808ed10ac6c71cbe": {
     "model_module": "@jupyter-widgets/controls",
     "model_module_version": "1.5.0",
     "model_name": "FloatProgressModel",
     "state": {
      "_dom_classes": [],
      "_model_module": "@jupyter-widgets/controls",
      "_model_module_version": "1.5.0",
      "_model_name": "FloatProgressModel",
      "_view_count": null,
      "_view_module": "@jupyter-widgets/controls",
      "_view_module_version": "1.5.0",
      "_view_name": "ProgressView",
      "bar_style": "success",
      "description": "",
      "description_tooltip": null,
      "layout": "IPY_MODEL_316e3292896541f09932cf10b83ed83f",
      "max": 134982446,
      "min": 0,
      "orientation": "horizontal",
      "style": "IPY_MODEL_0f17647afb3844c69689dcf7e0dcb11c",
      "value": 134982446
     }
    },
    "68a6d2102c794b678ffa21300cbee10d": {
     "model_module": "@jupyter-widgets/base",
     "model_module_version": "1.2.0",
     "model_name": "LayoutModel",
     "state": {
      "_model_module": "@jupyter-widgets/base",
      "_model_module_version": "1.2.0",
      "_model_name": "LayoutModel",
      "_view_count": null,
      "_view_module": "@jupyter-widgets/base",
      "_view_module_version": "1.2.0",
      "_view_name": "LayoutView",
      "align_content": null,
      "align_items": null,
      "align_self": null,
      "border": null,
      "bottom": null,
      "display": null,
      "flex": null,
      "flex_flow": null,
      "grid_area": null,
      "grid_auto_columns": null,
      "grid_auto_flow": null,
      "grid_auto_rows": null,
      "grid_column": null,
      "grid_gap": null,
      "grid_row": null,
      "grid_template_areas": null,
      "grid_template_columns": null,
      "grid_template_rows": null,
      "height": null,
      "justify_content": null,
      "justify_items": null,
      "left": null,
      "margin": null,
      "max_height": null,
      "max_width": null,
      "min_height": null,
      "min_width": null,
      "object_fit": null,
      "object_position": null,
      "order": null,
      "overflow": null,
      "overflow_x": null,
      "overflow_y": null,
      "padding": null,
      "right": null,
      "top": null,
      "visibility": null,
      "width": null
     }
    },
    "6e64799f9b764b10987e343e90f72178": {
     "model_module": "@jupyter-widgets/controls",
     "model_module_version": "1.5.0",
     "model_name": "HTMLModel",
     "state": {
      "_dom_classes": [],
      "_model_module": "@jupyter-widgets/controls",
      "_model_module_version": "1.5.0",
      "_model_name": "HTMLModel",
      "_view_count": null,
      "_view_module": "@jupyter-widgets/controls",
      "_view_module_version": "1.5.0",
      "_view_name": "HTMLView",
      "description": "",
      "description_tooltip": null,
      "layout": "IPY_MODEL_fc639f2e5ef549d0a42113bd4e2c524a",
      "placeholder": "​",
      "style": "IPY_MODEL_95a2ba1715364de28f24f62a303806d7",
      "value": " 129M/129M [00:04&lt;00:00, 32.5MB/s]"
     }
    },
    "7ea2cff46f3a4ef2be141ff6c0e4089c": {
     "model_module": "@jupyter-widgets/controls",
     "model_module_version": "1.5.0",
     "model_name": "HTMLModel",
     "state": {
      "_dom_classes": [],
      "_model_module": "@jupyter-widgets/controls",
      "_model_module_version": "1.5.0",
      "_model_name": "HTMLModel",
      "_view_count": null,
      "_view_module": "@jupyter-widgets/controls",
      "_view_module_version": "1.5.0",
      "_view_name": "HTMLView",
      "description": "",
      "description_tooltip": null,
      "layout": "IPY_MODEL_2bea2b520e0b4d35aec17a94dd164288",
      "placeholder": "​",
      "style": "IPY_MODEL_b3476de6f38f47e7a05f0a9032d53d56",
      "value": " 507/507 [00:00&lt;00:00, 8.25kB/s]"
     }
    },
    "856357b8629b4fe3a64243e79bdf3e78": {
     "model_module": "@jupyter-widgets/controls",
     "model_module_version": "1.5.0",
     "model_name": "HTMLModel",
     "state": {
      "_dom_classes": [],
      "_model_module": "@jupyter-widgets/controls",
      "_model_module_version": "1.5.0",
      "_model_name": "HTMLModel",
      "_view_count": null,
      "_view_module": "@jupyter-widgets/controls",
      "_view_module_version": "1.5.0",
      "_view_name": "HTMLView",
      "description": "",
      "description_tooltip": null,
      "layout": "IPY_MODEL_68a6d2102c794b678ffa21300cbee10d",
      "placeholder": "​",
      "style": "IPY_MODEL_e67559fb24e34006a41da48aa81c1ca5",
      "value": "Downloading: 100%"
     }
    },
    "8711c067f308434b8e8dd9103d079e1a": {
     "model_module": "@jupyter-widgets/controls",
     "model_module_version": "1.5.0",
     "model_name": "HTMLModel",
     "state": {
      "_dom_classes": [],
      "_model_module": "@jupyter-widgets/controls",
      "_model_module_version": "1.5.0",
      "_model_name": "HTMLModel",
      "_view_count": null,
      "_view_module": "@jupyter-widgets/controls",
      "_view_module_version": "1.5.0",
      "_view_name": "HTMLView",
      "description": "",
      "description_tooltip": null,
      "layout": "IPY_MODEL_4d4663b1a98641b0a77bfae459742056",
      "placeholder": "​",
      "style": "IPY_MODEL_dfd920deb75148629df378540809cf8d",
      "value": "Downloading: 100%"
     }
    },
    "87323ceb29194daca8e33122fa2838c7": {
     "model_module": "@jupyter-widgets/base",
     "model_module_version": "1.2.0",
     "model_name": "LayoutModel",
     "state": {
      "_model_module": "@jupyter-widgets/base",
      "_model_module_version": "1.2.0",
      "_model_name": "LayoutModel",
      "_view_count": null,
      "_view_module": "@jupyter-widgets/base",
      "_view_module_version": "1.2.0",
      "_view_name": "LayoutView",
      "align_content": null,
      "align_items": null,
      "align_self": null,
      "border": null,
      "bottom": null,
      "display": null,
      "flex": null,
      "flex_flow": null,
      "grid_area": null,
      "grid_auto_columns": null,
      "grid_auto_flow": null,
      "grid_auto_rows": null,
      "grid_column": null,
      "grid_gap": null,
      "grid_row": null,
      "grid_template_areas": null,
      "grid_template_columns": null,
      "grid_template_rows": null,
      "height": null,
      "justify_content": null,
      "justify_items": null,
      "left": null,
      "margin": null,
      "max_height": null,
      "max_width": null,
      "min_height": null,
      "min_width": null,
      "object_fit": null,
      "object_position": null,
      "order": null,
      "overflow": null,
      "overflow_x": null,
      "overflow_y": null,
      "padding": null,
      "right": null,
      "top": null,
      "visibility": null,
      "width": null
     }
    },
    "9077fd86af92478cb9f8649ce58ea2a6": {
     "model_module": "@jupyter-widgets/controls",
     "model_module_version": "1.5.0",
     "model_name": "HTMLModel",
     "state": {
      "_dom_classes": [],
      "_model_module": "@jupyter-widgets/controls",
      "_model_module_version": "1.5.0",
      "_model_name": "HTMLModel",
      "_view_count": null,
      "_view_module": "@jupyter-widgets/controls",
      "_view_module_version": "1.5.0",
      "_view_name": "HTMLView",
      "description": "",
      "description_tooltip": null,
      "layout": "IPY_MODEL_87323ceb29194daca8e33122fa2838c7",
      "placeholder": "​",
      "style": "IPY_MODEL_cfb37b87000744e3ac50d4253ceb6412",
      "value": "Downloading: 100%"
     }
    },
    "927b259297d54e0f840d7d71e9077028": {
     "model_module": "@jupyter-widgets/controls",
     "model_module_version": "1.5.0",
     "model_name": "HBoxModel",
     "state": {
      "_dom_classes": [],
      "_model_module": "@jupyter-widgets/controls",
      "_model_module_version": "1.5.0",
      "_model_name": "HBoxModel",
      "_view_count": null,
      "_view_module": "@jupyter-widgets/controls",
      "_view_module_version": "1.5.0",
      "_view_name": "HBoxView",
      "box_style": "",
      "children": [
       "IPY_MODEL_9077fd86af92478cb9f8649ce58ea2a6",
       "IPY_MODEL_64c19cbe702e4194808ed10ac6c71cbe",
       "IPY_MODEL_6e64799f9b764b10987e343e90f72178"
      ],
      "layout": "IPY_MODEL_afd56546f2ec4ec0a96001c2c45cbb93"
     }
    },
    "939dc345cf60499ea8530ca74e65c8da": {
     "model_module": "@jupyter-widgets/controls",
     "model_module_version": "1.5.0",
     "model_name": "HTMLModel",
     "state": {
      "_dom_classes": [],
      "_model_module": "@jupyter-widgets/controls",
      "_model_module_version": "1.5.0",
      "_model_name": "HTMLModel",
      "_view_count": null,
      "_view_module": "@jupyter-widgets/controls",
      "_view_module_version": "1.5.0",
      "_view_name": "HTMLView",
      "description": "",
      "description_tooltip": null,
      "layout": "IPY_MODEL_9f591df7237c4f6881f52ad3ccc6d4c2",
      "placeholder": "​",
      "style": "IPY_MODEL_08a199bf50064e93981b8ac9772df565",
      "value": " 5.38M/5.38M [00:00&lt;00:00, 26.9MB/s]"
     }
    },
    "95a2ba1715364de28f24f62a303806d7": {
     "model_module": "@jupyter-widgets/controls",
     "model_module_version": "1.5.0",
     "model_name": "DescriptionStyleModel",
     "state": {
      "_model_module": "@jupyter-widgets/controls",
      "_model_module_version": "1.5.0",
      "_model_name": "DescriptionStyleModel",
      "_view_count": null,
      "_view_module": "@jupyter-widgets/base",
      "_view_module_version": "1.2.0",
      "_view_name": "StyleView",
      "description_width": ""
     }
    },
    "9dbc0122524d40829784e9d9e11fa462": {
     "model_module": "@jupyter-widgets/base",
     "model_module_version": "1.2.0",
     "model_name": "LayoutModel",
     "state": {
      "_model_module": "@jupyter-widgets/base",
      "_model_module_version": "1.2.0",
      "_model_name": "LayoutModel",
      "_view_count": null,
      "_view_module": "@jupyter-widgets/base",
      "_view_module_version": "1.2.0",
      "_view_name": "LayoutView",
      "align_content": null,
      "align_items": null,
      "align_self": null,
      "border": null,
      "bottom": null,
      "display": null,
      "flex": null,
      "flex_flow": null,
      "grid_area": null,
      "grid_auto_columns": null,
      "grid_auto_flow": null,
      "grid_auto_rows": null,
      "grid_column": null,
      "grid_gap": null,
      "grid_row": null,
      "grid_template_areas": null,
      "grid_template_columns": null,
      "grid_template_rows": null,
      "height": null,
      "justify_content": null,
      "justify_items": null,
      "left": null,
      "margin": null,
      "max_height": null,
      "max_width": null,
      "min_height": null,
      "min_width": null,
      "object_fit": null,
      "object_position": null,
      "order": null,
      "overflow": null,
      "overflow_x": null,
      "overflow_y": null,
      "padding": null,
      "right": null,
      "top": null,
      "visibility": null,
      "width": null
     }
    },
    "9f591df7237c4f6881f52ad3ccc6d4c2": {
     "model_module": "@jupyter-widgets/base",
     "model_module_version": "1.2.0",
     "model_name": "LayoutModel",
     "state": {
      "_model_module": "@jupyter-widgets/base",
      "_model_module_version": "1.2.0",
      "_model_name": "LayoutModel",
      "_view_count": null,
      "_view_module": "@jupyter-widgets/base",
      "_view_module_version": "1.2.0",
      "_view_name": "LayoutView",
      "align_content": null,
      "align_items": null,
      "align_self": null,
      "border": null,
      "bottom": null,
      "display": null,
      "flex": null,
      "flex_flow": null,
      "grid_area": null,
      "grid_auto_columns": null,
      "grid_auto_flow": null,
      "grid_auto_rows": null,
      "grid_column": null,
      "grid_gap": null,
      "grid_row": null,
      "grid_template_areas": null,
      "grid_template_columns": null,
      "grid_template_rows": null,
      "height": null,
      "justify_content": null,
      "justify_items": null,
      "left": null,
      "margin": null,
      "max_height": null,
      "max_width": null,
      "min_height": null,
      "min_width": null,
      "object_fit": null,
      "object_position": null,
      "order": null,
      "overflow": null,
      "overflow_x": null,
      "overflow_y": null,
      "padding": null,
      "right": null,
      "top": null,
      "visibility": null,
      "width": null
     }
    },
    "ac809611919d4c0aa724e9db7ddbc513": {
     "model_module": "@jupyter-widgets/controls",
     "model_module_version": "1.5.0",
     "model_name": "FloatProgressModel",
     "state": {
      "_dom_classes": [],
      "_model_module": "@jupyter-widgets/controls",
      "_model_module_version": "1.5.0",
      "_model_name": "FloatProgressModel",
      "_view_count": null,
      "_view_module": "@jupyter-widgets/controls",
      "_view_module_version": "1.5.0",
      "_view_name": "ProgressView",
      "bar_style": "success",
      "description": "",
      "description_tooltip": null,
      "layout": "IPY_MODEL_59b6fc6f65b54b9bb107936dc6452138",
      "max": 507,
      "min": 0,
      "orientation": "horizontal",
      "style": "IPY_MODEL_58be73ce9e4b45579257e133b9fd564e",
      "value": 507
     }
    },
    "afd56546f2ec4ec0a96001c2c45cbb93": {
     "model_module": "@jupyter-widgets/base",
     "model_module_version": "1.2.0",
     "model_name": "LayoutModel",
     "state": {
      "_model_module": "@jupyter-widgets/base",
      "_model_module_version": "1.2.0",
      "_model_name": "LayoutModel",
      "_view_count": null,
      "_view_module": "@jupyter-widgets/base",
      "_view_module_version": "1.2.0",
      "_view_name": "LayoutView",
      "align_content": null,
      "align_items": null,
      "align_self": null,
      "border": null,
      "bottom": null,
      "display": null,
      "flex": null,
      "flex_flow": null,
      "grid_area": null,
      "grid_auto_columns": null,
      "grid_auto_flow": null,
      "grid_auto_rows": null,
      "grid_column": null,
      "grid_gap": null,
      "grid_row": null,
      "grid_template_areas": null,
      "grid_template_columns": null,
      "grid_template_rows": null,
      "height": null,
      "justify_content": null,
      "justify_items": null,
      "left": null,
      "margin": null,
      "max_height": null,
      "max_width": null,
      "min_height": null,
      "min_width": null,
      "object_fit": null,
      "object_position": null,
      "order": null,
      "overflow": null,
      "overflow_x": null,
      "overflow_y": null,
      "padding": null,
      "right": null,
      "top": null,
      "visibility": null,
      "width": null
     }
    },
    "b3476de6f38f47e7a05f0a9032d53d56": {
     "model_module": "@jupyter-widgets/controls",
     "model_module_version": "1.5.0",
     "model_name": "DescriptionStyleModel",
     "state": {
      "_model_module": "@jupyter-widgets/controls",
      "_model_module_version": "1.5.0",
      "_model_name": "DescriptionStyleModel",
      "_view_count": null,
      "_view_module": "@jupyter-widgets/base",
      "_view_module_version": "1.2.0",
      "_view_name": "StyleView",
      "description_width": ""
     }
    },
    "c10bec10cbd14d86bd4a1249b17839b2": {
     "model_module": "@jupyter-widgets/controls",
     "model_module_version": "1.5.0",
     "model_name": "FloatProgressModel",
     "state": {
      "_dom_classes": [],
      "_model_module": "@jupyter-widgets/controls",
      "_model_module_version": "1.5.0",
      "_model_name": "FloatProgressModel",
      "_view_count": null,
      "_view_module": "@jupyter-widgets/controls",
      "_view_module_version": "1.5.0",
      "_view_name": "ProgressView",
      "bar_style": "success",
      "description": "",
      "description_tooltip": null,
      "layout": "IPY_MODEL_9dbc0122524d40829784e9d9e11fa462",
      "max": 5646064,
      "min": 0,
      "orientation": "horizontal",
      "style": "IPY_MODEL_c61ca5f9e9ce4dbc8991e4bc2e9ca50a",
      "value": 5646064
     }
    },
    "c61ca5f9e9ce4dbc8991e4bc2e9ca50a": {
     "model_module": "@jupyter-widgets/controls",
     "model_module_version": "1.5.0",
     "model_name": "ProgressStyleModel",
     "state": {
      "_model_module": "@jupyter-widgets/controls",
      "_model_module_version": "1.5.0",
      "_model_name": "ProgressStyleModel",
      "_view_count": null,
      "_view_module": "@jupyter-widgets/base",
      "_view_module_version": "1.2.0",
      "_view_name": "StyleView",
      "bar_color": null,
      "description_width": ""
     }
    },
    "cfb37b87000744e3ac50d4253ceb6412": {
     "model_module": "@jupyter-widgets/controls",
     "model_module_version": "1.5.0",
     "model_name": "DescriptionStyleModel",
     "state": {
      "_model_module": "@jupyter-widgets/controls",
      "_model_module_version": "1.5.0",
      "_model_name": "DescriptionStyleModel",
      "_view_count": null,
      "_view_module": "@jupyter-widgets/base",
      "_view_module_version": "1.2.0",
      "_view_name": "StyleView",
      "description_width": ""
     }
    },
    "d0d04d10b549428abf8cdcc72d30adca": {
     "model_module": "@jupyter-widgets/controls",
     "model_module_version": "1.5.0",
     "model_name": "HBoxModel",
     "state": {
      "_dom_classes": [],
      "_model_module": "@jupyter-widgets/controls",
      "_model_module_version": "1.5.0",
      "_model_name": "HBoxModel",
      "_view_count": null,
      "_view_module": "@jupyter-widgets/controls",
      "_view_module_version": "1.5.0",
      "_view_name": "HBoxView",
      "box_style": "",
      "children": [
       "IPY_MODEL_856357b8629b4fe3a64243e79bdf3e78",
       "IPY_MODEL_ac809611919d4c0aa724e9db7ddbc513",
       "IPY_MODEL_7ea2cff46f3a4ef2be141ff6c0e4089c"
      ],
      "layout": "IPY_MODEL_0f2e74a52e7844e3992e5ed270ada366"
     }
    },
    "d9f38051d5194f1e9a424f4d432934ab": {
     "model_module": "@jupyter-widgets/base",
     "model_module_version": "1.2.0",
     "model_name": "LayoutModel",
     "state": {
      "_model_module": "@jupyter-widgets/base",
      "_model_module_version": "1.2.0",
      "_model_name": "LayoutModel",
      "_view_count": null,
      "_view_module": "@jupyter-widgets/base",
      "_view_module_version": "1.2.0",
      "_view_name": "LayoutView",
      "align_content": null,
      "align_items": null,
      "align_self": null,
      "border": null,
      "bottom": null,
      "display": null,
      "flex": null,
      "flex_flow": null,
      "grid_area": null,
      "grid_auto_columns": null,
      "grid_auto_flow": null,
      "grid_auto_rows": null,
      "grid_column": null,
      "grid_gap": null,
      "grid_row": null,
      "grid_template_areas": null,
      "grid_template_columns": null,
      "grid_template_rows": null,
      "height": null,
      "justify_content": null,
      "justify_items": null,
      "left": null,
      "margin": null,
      "max_height": null,
      "max_width": null,
      "min_height": null,
      "min_width": null,
      "object_fit": null,
      "object_position": null,
      "order": null,
      "overflow": null,
      "overflow_x": null,
      "overflow_y": null,
      "padding": null,
      "right": null,
      "top": null,
      "visibility": null,
      "width": null
     }
    },
    "dfd920deb75148629df378540809cf8d": {
     "model_module": "@jupyter-widgets/controls",
     "model_module_version": "1.5.0",
     "model_name": "DescriptionStyleModel",
     "state": {
      "_model_module": "@jupyter-widgets/controls",
      "_model_module_version": "1.5.0",
      "_model_name": "DescriptionStyleModel",
      "_view_count": null,
      "_view_module": "@jupyter-widgets/base",
      "_view_module_version": "1.2.0",
      "_view_name": "StyleView",
      "description_width": ""
     }
    },
    "e67559fb24e34006a41da48aa81c1ca5": {
     "model_module": "@jupyter-widgets/controls",
     "model_module_version": "1.5.0",
     "model_name": "DescriptionStyleModel",
     "state": {
      "_model_module": "@jupyter-widgets/controls",
      "_model_module_version": "1.5.0",
      "_model_name": "DescriptionStyleModel",
      "_view_count": null,
      "_view_module": "@jupyter-widgets/base",
      "_view_module_version": "1.2.0",
      "_view_name": "StyleView",
      "description_width": ""
     }
    },
    "fc639f2e5ef549d0a42113bd4e2c524a": {
     "model_module": "@jupyter-widgets/base",
     "model_module_version": "1.2.0",
     "model_name": "LayoutModel",
     "state": {
      "_model_module": "@jupyter-widgets/base",
      "_model_module_version": "1.2.0",
      "_model_name": "LayoutModel",
      "_view_count": null,
      "_view_module": "@jupyter-widgets/base",
      "_view_module_version": "1.2.0",
      "_view_name": "LayoutView",
      "align_content": null,
      "align_items": null,
      "align_self": null,
      "border": null,
      "bottom": null,
      "display": null,
      "flex": null,
      "flex_flow": null,
      "grid_area": null,
      "grid_auto_columns": null,
      "grid_auto_flow": null,
      "grid_auto_rows": null,
      "grid_column": null,
      "grid_gap": null,
      "grid_row": null,
      "grid_template_areas": null,
      "grid_template_columns": null,
      "grid_template_rows": null,
      "height": null,
      "justify_content": null,
      "justify_items": null,
      "left": null,
      "margin": null,
      "max_height": null,
      "max_width": null,
      "min_height": null,
      "min_width": null,
      "object_fit": null,
      "object_position": null,
      "order": null,
      "overflow": null,
      "overflow_x": null,
      "overflow_y": null,
      "padding": null,
      "right": null,
      "top": null,
      "visibility": null,
      "width": null
     }
    },
    "fee51ab0103f4a718f74e281801d74f1": {
     "model_module": "@jupyter-widgets/controls",
     "model_module_version": "1.5.0",
     "model_name": "HBoxModel",
     "state": {
      "_dom_classes": [],
      "_model_module": "@jupyter-widgets/controls",
      "_model_module_version": "1.5.0",
      "_model_name": "HBoxModel",
      "_view_count": null,
      "_view_module": "@jupyter-widgets/controls",
      "_view_module_version": "1.5.0",
      "_view_name": "HBoxView",
      "box_style": "",
      "children": [
       "IPY_MODEL_8711c067f308434b8e8dd9103d079e1a",
       "IPY_MODEL_c10bec10cbd14d86bd4a1249b17839b2",
       "IPY_MODEL_939dc345cf60499ea8530ca74e65c8da"
      ],
      "layout": "IPY_MODEL_d9f38051d5194f1e9a424f4d432934ab"
     }
    }
   }
  }
 },
 "nbformat": 4,
 "nbformat_minor": 4
}
